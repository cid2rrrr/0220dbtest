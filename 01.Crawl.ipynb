{
 "cells": [
  {
   "cell_type": "code",
   "execution_count": 2,
   "metadata": {},
   "outputs": [],
   "source": [
    "# first of all you need to install python discogs client below\n",
    "\n",
    "#pip install python3-discogs-client"
   ]
  },
  {
   "cell_type": "markdown",
   "metadata": {},
   "source": [
    "# Reading XML"
   ]
  },
  {
   "cell_type": "code",
   "execution_count": null,
   "metadata": {},
   "outputs": [],
   "source": [
    "import xml.etree.ElementTree as ET\n",
    "import discogs_client\n",
    "import os\n",
    "from ast import literal_eval\n",
    "import shutil\n",
    "import requests\n",
    "from bs4 import BeautifulSoup\n",
    "import json"
   ]
  },
  {
   "cell_type": "code",
   "execution_count": null,
   "metadata": {},
   "outputs": [],
   "source": [
    "# master release data from https://data.discogs.com\n",
    "\n",
    "tree = ET.parse(r'C:\\Users\\cid2r\\Documents\\!VSCode\\discogs_20220201_masters.xml')\n",
    "root = tree.getroot()"
   ]
  },
  {
   "cell_type": "markdown",
   "metadata": {},
   "source": [
    "# AlbumCover Data Crawling"
   ]
  },
  {
   "cell_type": "code",
   "execution_count": null,
   "metadata": {},
   "outputs": [],
   "source": [
    "# use your own token plz :)\n",
    "\n",
    "d = discogs_client.Client('ExampleApplication/0.1', \n",
    "                          user_token = 'WkcTWMWNFmwUFYHrtQIreHRnLmyFZTNnkflNHsgc')"
   ]
  },
  {
   "cell_type": "code",
   "execution_count": null,
   "metadata": {},
   "outputs": [],
   "source": [
    "def makedirs(path):\n",
    "    try:\n",
    "        os.makedirs(path)\n",
    "    except OSError:\n",
    "        if not os.path.isdir(path):\n",
    "            raise"
   ]
  },
  {
   "cell_type": "code",
   "execution_count": null,
   "metadata": {},
   "outputs": [],
   "source": [
    "macos_dir = \"/Users/cooky/Documents/GitHub/0220dbtest/img/\"\n",
    "win_dir = r\"D:\\AlbumCover\""
   ]
  },
  {
   "cell_type": "code",
   "execution_count": null,
   "metadata": {},
   "outputs": [],
   "source": [
    "\n",
    "\n",
    "for release in root.iter('master'):\n",
    "    id = release.attrib.get('id')\n",
    "    \n",
    "    # collecting data whose id is bigger than\n",
    "    if int(id) > 2247871:\n",
    "\n",
    "\n",
    "        master_scarp = 'https://www.discogs.com/master/' + str(id)\n",
    "        soup = BeautifulSoup(requests.get(master_scarp).text)\n",
    "        rslt = soup.find('script', attrs={'id':'master_schema'})\n",
    "        if rslt == None:\n",
    "            continue\n",
    "        else:\n",
    "            json_file = json.loads(rslt.get_text())\n",
    "            rating = json_file['@graph'][0]['aggregateRating']['ratingCount']\n",
    "            \n",
    "        # filter the data by the # of ratings \n",
    "        standard = 50 if 'Electronic' in literal_eval(str(json_file['@graph'][0]['genre'])) \\\n",
    "            or 'Rock' in literal_eval(str(json_file['@graph'][0]['genre'])) \\\n",
    "            else 15\n",
    "    \n",
    "        if rating >= standard:\n",
    "            \n",
    "            print(id)\n",
    "    \n",
    "            gens=[]\n",
    "            for gen in release.iter('genre'):\n",
    "               gens.append(gen.text)\n",
    "    \n",
    "            imglnk = d.master(id).images\n",
    "            if(imglnk != None):\n",
    "                if('uri150' in imglnk[0]):\n",
    "                    uri = imglnk[0]['uri150']\n",
    "    \n",
    "        \n",
    "            if len(gens) == 1:\n",
    "                if gens[0] == 'Funk / Soul':\n",
    "                    gens[0] = 'Funk&Soul'\n",
    "                makedirs(os.path.join(win_dir, gens[0]))\n",
    "                img_name = id + '.jpeg'\n",
    "                img_dir = os.path.join(win_dir, ('Funk&Soul' if gens[0] == 'Funk / Soul' else gens[0]), img_name)\n",
    "                #0310add\n",
    "                makedirs(os.path.join(win_dir, gens[0]))\n",
    "                r = requests.get(uri, stream=True, headers={'User Agent' : 'Mozilla/5.0'})\n",
    "                if r.status_code == 200:\n",
    "                    with open(img_dir, 'wb') as f:\n",
    "                        r.raw.decode_content = True\n",
    "                        shutil.copyfileobj(r.raw, f)\n",
    "        \n",
    "            else:\n",
    "                multi_dir = ''\n",
    "                separator = '+'\n",
    "                for idx, val in enumerate(gens):\n",
    "                    multi_dir += ('Funk&Soul' if val == 'Funk / Soul' else val) + ('' if idx == len(gens) -1 else separator)\n",
    "                img_name = id + '.jpeg'\n",
    "                img_dir = os.path.join(win_dir, 'multi', multi_dir, img_name)\n",
    "            \n",
    "                makedirs(os.path.join(win_dir, 'multi',multi_dir))\n",
    "                r = requests.get(uri, stream=True, headers={'User Agent' : 'Mozilla/5.0'})\n",
    "                if r.status_code == 200:\n",
    "                    with open(img_dir, 'wb') as f:\n",
    "                        r.raw.decode_content = True\n",
    "                        shutil.copyfileobj(r.raw, f)\n",
    "            \n",
    "            \n",
    "\n",
    "    \n",
    "        if int(id) >= 2149999:\n",
    "            break\n",
    "\n",
    "print(\"done! done!\")"
   ]
  }
 ],
 "metadata": {
  "interpreter": {
   "hash": "9cda7dce2d78f3c21f6a73de63970ac35274352b7a0f13225446d99cae259cfd"
  },
  "kernelspec": {
   "display_name": "Python 3.9.7 ('base')",
   "language": "python",
   "name": "python3"
  },
  "language_info": {
   "codemirror_mode": {
    "name": "ipython",
    "version": 3
   },
   "file_extension": ".py",
   "mimetype": "text/x-python",
   "name": "python",
   "nbconvert_exporter": "python",
   "pygments_lexer": "ipython3",
   "version": "3.9.7"
  },
  "orig_nbformat": 4
 },
 "nbformat": 4,
 "nbformat_minor": 2
}
