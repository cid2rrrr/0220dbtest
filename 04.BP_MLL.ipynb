{
 "cells": [
  {
   "cell_type": "markdown",
   "metadata": {},
   "source": [
    "# Load Datasets"
   ]
  },
  {
   "cell_type": "code",
   "execution_count": 1,
   "metadata": {},
   "outputs": [],
   "source": [
    "import pandas as pd\n",
    "import numpy as np\n",
    "import tensorflow as tf"
   ]
  },
  {
   "cell_type": "markdown",
   "metadata": {},
   "source": [
    "+ X_label IMG"
   ]
  },
  {
   "cell_type": "code",
   "execution_count": 2,
   "metadata": {},
   "outputs": [],
   "source": [
    "def load(file_path):\n",
    "    img = tf.io.read_file(file_path)\n",
    "    img = tf.image.decode_png(img, channels=3)\n",
    "    img = tf.image.convert_image_dtype(img, tf.float32)\n",
    "    img = tf.image.resize(img, size=(150, 150))\n",
    "    return img"
   ]
  },
  {
   "cell_type": "code",
   "execution_count": 3,
   "metadata": {},
   "outputs": [],
   "source": [
    "d_path = 'D:\\AlbumCover/'\n",
    "img_dataset_cache = pd.read_csv('./dataset/img.csv')\n",
    "img_dataset = img_dataset_cache.copy()"
   ]
  },
  {
   "cell_type": "code",
   "execution_count": 4,
   "metadata": {},
   "outputs": [],
   "source": [
    "img_arr = None\n",
    "\n",
    "for path in img_dataset['path']:\n",
    "    if img_arr is None:\n",
    "        img_arr = np.expand_dims(load(d_path + path), axis=0)\n",
    "    else:\n",
    "        img_arr = np.append(img_arr, np.expand_dims(load(d_path + path), axis=0), axis=0)"
   ]
  },
  {
   "cell_type": "code",
   "execution_count": 5,
   "metadata": {},
   "outputs": [
    {
     "data": {
      "text/plain": [
       "(1016, 150, 150, 3)"
      ]
     },
     "execution_count": 5,
     "metadata": {},
     "output_type": "execute_result"
    }
   ],
   "source": [
    "# check np array is well defined\n",
    "img_arr.shape"
   ]
  },
  {
   "cell_type": "markdown",
   "metadata": {},
   "source": [
    "+ X_label Facial"
   ]
  },
  {
   "cell_type": "code",
   "execution_count": 6,
   "metadata": {},
   "outputs": [],
   "source": [
    "pre_facial = pd.read_csv('./dataset/facial.csv')\n",
    "\n",
    "if 'Unnamed: 0' in pre_facial.columns:\n",
    "    pre_facial = pre_facial.drop('Unnamed: 0', axis=1)"
   ]
  },
  {
   "cell_type": "code",
   "execution_count": 7,
   "metadata": {},
   "outputs": [],
   "source": [
    "imsi = pre_facial.copy()"
   ]
  },
  {
   "cell_type": "code",
   "execution_count": 8,
   "metadata": {},
   "outputs": [],
   "source": [
    "# categorical data to one-hot\n",
    "fac_input_df = pd.get_dummies(imsi, prefix=['gender', 'dominant_race'])\n",
    "\n",
    "# Normalization\n",
    "fac_input_norm = (fac_input_df - fac_input_df.mean()) / fac_input_df.std()\n",
    "\n",
    "fac_input = np.array(fac_input_norm)"
   ]
  },
  {
   "cell_type": "code",
   "execution_count": 9,
   "metadata": {},
   "outputs": [
    {
     "data": {
      "text/plain": [
       "(1016, 16)"
      ]
     },
     "execution_count": 9,
     "metadata": {},
     "output_type": "execute_result"
    }
   ],
   "source": [
    "# check np array is well defined\n",
    "fac_input.shape"
   ]
  },
  {
   "cell_type": "markdown",
   "metadata": {},
   "source": [
    "+ X_label Color"
   ]
  },
  {
   "cell_type": "code",
   "execution_count": 10,
   "metadata": {},
   "outputs": [],
   "source": [
    "clr_data = pd.read_csv('./dataset/clr.csv')\n",
    "if 'Unnamed: 0' in clr_data.columns:\n",
    "    clr_data = clr_data.drop('Unnamed: 0', axis=1)"
   ]
  },
  {
   "cell_type": "code",
   "execution_count": 11,
   "metadata": {},
   "outputs": [],
   "source": [
    "clr_input = np.array( (clr_data - clr_data.mean())/clr_data.std() )"
   ]
  },
  {
   "cell_type": "code",
   "execution_count": 12,
   "metadata": {},
   "outputs": [
    {
     "data": {
      "text/plain": [
       "(1016, 3)"
      ]
     },
     "execution_count": 12,
     "metadata": {},
     "output_type": "execute_result"
    }
   ],
   "source": [
    "# check np array is well defined\n",
    "clr_input.shape"
   ]
  },
  {
   "cell_type": "markdown",
   "metadata": {},
   "source": [
    "+ y_label"
   ]
  },
  {
   "cell_type": "code",
   "execution_count": 13,
   "metadata": {},
   "outputs": [],
   "source": [
    "y_data = pd.read_csv('./dataset/y_label.csv')\n",
    "\n",
    "y_out = np.array(y_data)\n",
    "\n",
    "img_arr = img_arr.astype('float64')"
   ]
  },
  {
   "cell_type": "markdown",
   "metadata": {},
   "source": [
    "---"
   ]
  },
  {
   "cell_type": "markdown",
   "metadata": {},
   "source": [
    "# Modeling w/ BP-MLL"
   ]
  },
  {
   "cell_type": "markdown",
   "metadata": {},
   "source": [
    "Make Model using keras functional api"
   ]
  },
  {
   "cell_type": "code",
   "execution_count": 177,
   "metadata": {},
   "outputs": [],
   "source": [
    "from keras.layers import Input\n",
    "from keras.models import Model\n",
    "import tensorflow as tf\n",
    "from tensorflow.keras.applications.resnet50 import ResNet50\n",
    "\n",
    "def multi_input_model(input_shape, classes):\n",
    "    # IMG Conv Model (not in use)\n",
    "    real_conv_input = tf.keras.Input(shape=(150,150,3,))\n",
    "    # conv_input = tf.keras.layers.experimental.preprocessing.Rescaling(1./255, input_shape=(input_shape, input_shape))\n",
    "    conv_layer = tf.keras.layers.Conv2D(filters=16, kernel_size=(5, 5), activation=\"relu\")(real_conv_input)\n",
    "    conv_laye2 = tf.keras.layers.Dropout(0.2)(conv_layer)\n",
    "    conv_laye3 = tf.keras.layers.Conv2D(filters=64, kernel_size=(5, 5), activation='relu')(conv_laye2)\n",
    "    conv_laye4 = tf.keras.layers.MaxPooling2D(pool_size=(4,4))(conv_laye3)\n",
    "    conv_laye5 = tf.keras.layers.Dropout(0.2)(conv_laye4)\n",
    "    conv_laye6 = tf.keras.layers.Conv2D(filters=64, kernel_size=(5, 5), activation='relu')(conv_laye5)\n",
    "    conv_laye7 = tf.keras.layers.MaxPooling2D(pool_size=(2,2))(conv_laye6)\n",
    "    conv_laye8 = tf.keras.layers.Dropout(0.2)(conv_laye7)\n",
    "    conv_laye9 = tf.keras.layers.Flatten()(conv_laye8)\n",
    "    #conv_lay10 = tf.keras.layers.Dense(64, activation='relu')(conv_laye9)\n",
    "    #conv_output = tf.keras.layers.Dense(classes, activation='relu')(conv_lay10)\n",
    "    \n",
    "    # IMG ResNet Model\n",
    "    # resnet_input = tf.keras.layers.experimental.preprocessing.Rescaling(1./255, input_shape=(input_shape, input_shape))\n",
    "    # resnet_input = tf.keras.Input(shape=(input_shape,input_shape,3))\n",
    "    #resnet_resc = tf.keras.preprocessing.Rescaling(1.0/255)(resnet_input)\n",
    "    # resnet_output = tf.keras.applications.ResNet50(weights=None, input_shape=(input_shape,input_shape,3), classes=classes)(resnet_input)\n",
    "    \n",
    "    # face MLP Model\n",
    "    real_face_input = tf.keras.layers.Input(shape=(16,))\n",
    "    #face_input = tf.keras.layers.Dense(256, activation='relu')(real_face_input)\n",
    "    # face_layer = keras.layers.Dropout(0.2)(face_input)\n",
    "    #face_laye2 = tf.keras.layers.Dense(128, activation='relu')(face_input)#(face_layer)\n",
    "    # face_laye3 = keras.layers.Dropout(0.2)(face_laye2)\n",
    "    #face_laye4 = tf.keras.layers.Dense(64, activation='relu')(face_laye2)#(face_laye3)\n",
    "    # face_laye5 = keras.layers.Dropout(0.2)(face_laye4)\n",
    "    #face_output = tf.keras.layers.Dense(classes, activation='relu')(face_laye4)#(face_laye5)\n",
    "    \n",
    "    # # face MLP Model /w relu\n",
    "    # real_face_input = tf.keras.layers.Input(shape=(16,))\n",
    "    # face_input = tf.keras.layers.Dense(256, activation='relu')(real_face_input)\n",
    "    # #face_layer = keras.layers.Dropout(0.2)(face_input)\n",
    "    # face_laye2 = tf.keras.layers.Dense(128, activation='relu')(face_input)#(face_layer)\n",
    "    # #face_laye3 = keras.layers.Dropout(0.2)(face_laye2)\n",
    "    # face_laye4 = tf.keras.layers.Dense(64, activation='relu')(face_laye2)#(face_laye3)\n",
    "    # #face_laye5 = keras.layers.Dropout(0.2)(face_laye4)\n",
    "    # face_output = tf.keras.layers.Dense(classes, activation='softmax')(face_laye4)#(face_laye5)\n",
    "    \n",
    "    \n",
    "    \n",
    "    # clr MLP Model\n",
    "    real_clr_input = tf.keras.layers.Input(shape=(3,))\n",
    "    #clr_input = tf.keras.layers.Dense(64, activation='relu')(real_clr_input)\n",
    "    #clr_layer = tf.keras.layers.Dense(32, activation='relu')(clr_input)\n",
    "    #clr_output = tf.keras.layers.Dense(classes, activation='relu')(clr_layer)\n",
    "    \n",
    "    \n",
    "    # concatenate\n",
    "    concat = tf.keras.layers.Concatenate(axis=-1)([conv_laye9, real_face_input, real_clr_input])\n",
    "    \n",
    "    # final model\n",
    "    final_input = tf.keras.layers.Dense(128, activation='relu')(concat)\n",
    "    final_layer = tf.keras.layers.Dropout(0.2)(final_input)\n",
    "    final_laye2 = tf.keras.layers.Dense(128, activation='relu')(final_layer)\n",
    "    final_laye3 = tf.keras.layers.Dropout(0.2)(final_laye2)\n",
    "    fianl_laye4 = tf.keras.layers.Dense(64, activation='relu')(final_laye3)\n",
    "    final_output = tf.keras.layers.Dense(classes, activation='sigmoid')(fianl_laye4)\n",
    "    \n",
    "    \n",
    "    model = tf.keras.models.Model([real_conv_input, real_face_input, real_clr_input], final_output)\n",
    "    \n",
    "    return model\n",
    "\n",
    "\n",
    "\n"
   ]
  },
  {
   "cell_type": "code",
   "execution_count": 178,
   "metadata": {},
   "outputs": [],
   "source": [
    "NUM_CLASSES = 7\n",
    "IMG_SIZE = 150"
   ]
  },
  {
   "cell_type": "code",
   "execution_count": 186,
   "metadata": {},
   "outputs": [],
   "source": [
    "model = multi_input_model(IMG_SIZE, NUM_CLASSES)"
   ]
  },
  {
   "cell_type": "code",
   "execution_count": 187,
   "metadata": {},
   "outputs": [],
   "source": [
    "# you can see model summary\n",
    "\n",
    "#tf.keras.utils.plot_model(model, show_shapes=True)"
   ]
  },
  {
   "cell_type": "markdown",
   "metadata": {},
   "source": [
    "Compiling the Model"
   ]
  },
  {
   "cell_type": "code",
   "execution_count": 188,
   "metadata": {},
   "outputs": [],
   "source": [
    "from bpmll import bp_mll_loss\n",
    "import tensorflow as tf\n",
    "from sklearn.metrics import log_loss, f1_score # not in use right now\n",
    "\n",
    "# 성능 기반 스케줄링\n",
    "lr_scheduler = tf.keras.callbacks.ReduceLROnPlateau(factor=0.5, patience=3)\n",
    "\n",
    "optimizer = tf.keras.optimizers.SGD(learning_rate=0.02, momentum=0.9)\n",
    "\n",
    "\n",
    "model.compile(loss = 'binary_crossentropy',\n",
    "              optimizer= 'adam',\n",
    "              metrics=[tf.compat.v1.losses.log_loss, 'Precision', 'Recall', 'BinaryAccuracy']\n",
    "\n",
    "              )\n",
    "\n",
    "# model.compile(loss = tf.nn.softmax_cross_entropy_with_logits,\n",
    "#               optimizer= optimizer,\n",
    "#               metrics=['CategoricalCrossentropy', 'accuracy'])"
   ]
  },
  {
   "cell_type": "code",
   "execution_count": 189,
   "metadata": {},
   "outputs": [],
   "source": [
    "import sklearn\n",
    "\n",
    "img_arr_s = sklearn.utils.shuffle(img_arr, random_state=1234)\n",
    "fac_input_s = sklearn.utils.shuffle(fac_input, random_state=1234)\n",
    "clr_input_s = sklearn.utils.shuffle(clr_input, random_state=1234)\n",
    "y_out_s = sklearn.utils.shuffle(y_out, random_state=123)\n",
    "\n",
    "weigh = np.array([1/42, 1/89, 1/112, 1/370, 1/135, 1/250, 1/47, 1/347, 1/51, 1/230, 1/50])\n",
    "weigh = weigh * 1205 / 11\n",
    "cw = {0:weigh[0], 1:weigh[1], 2:weigh[2], 3:weigh[3], 4:weigh[4], 5:weigh[5], 6:weigh[6], 7:weigh[7], 8:weigh[8], 9:weigh[9], 10:weigh[10]}"
   ]
  },
  {
   "cell_type": "code",
   "execution_count": 190,
   "metadata": {},
   "outputs": [],
   "source": [
    "img_arr_test = img_arr_s[900:]\n",
    "fac_inp_test = fac_input_s[900:]\n",
    "clr_inp_test = clr_input_s[900:]\n",
    "y_out_test = y_out_s[900:]\n",
    "\n",
    "img_arr_s = img_arr_s[:900]\n",
    "fac_input_s = fac_input_s[:900]\n",
    "clr_input_s = clr_input_s[:900]\n",
    "y_out_s = y_out_s[:900]\n",
    "\n",
    "\n"
   ]
  },
  {
   "cell_type": "code",
   "execution_count": 191,
   "metadata": {},
   "outputs": [
    {
     "name": "stdout",
     "output_type": "stream",
     "text": [
      "Epoch 1/500\n",
      "23/23 [==============================] - 2s 62ms/step - loss: 0.5284 - log_loss: 0.5265 - precision: 0.2161 - recall: 0.0696 - binary_accuracy: 0.7742 - val_loss: 0.5234 - val_log_loss: 0.5230 - val_precision: 0.0000e+00 - val_recall: 0.0000e+00 - val_binary_accuracy: 0.8087 - lr: 0.0010\n",
      "Epoch 2/500\n",
      "23/23 [==============================] - 1s 49ms/step - loss: 0.4790 - log_loss: 0.4794 - precision: 0.3654 - recall: 0.0198 - binary_accuracy: 0.8063 - val_loss: 0.5330 - val_log_loss: 0.5328 - val_precision: 0.0000e+00 - val_recall: 0.0000e+00 - val_binary_accuracy: 0.8087 - lr: 0.0010\n",
      "Epoch 3/500\n",
      "23/23 [==============================] - 1s 44ms/step - loss: 0.4700 - log_loss: 0.4713 - precision: 0.2500 - recall: 0.0010 - binary_accuracy: 0.8087 - val_loss: 0.4968 - val_log_loss: 0.4966 - val_precision: 0.0000e+00 - val_recall: 0.0000e+00 - val_binary_accuracy: 0.8087 - lr: 0.0010\n",
      "Epoch 4/500\n",
      "23/23 [==============================] - 1s 44ms/step - loss: 0.4676 - log_loss: 0.4685 - precision: 0.4444 - recall: 0.0083 - binary_accuracy: 0.8087 - val_loss: 0.4839 - val_log_loss: 0.4838 - val_precision: 0.0000e+00 - val_recall: 0.0000e+00 - val_binary_accuracy: 0.8087 - lr: 0.0010\n",
      "Epoch 5/500\n",
      "23/23 [==============================] - 1s 47ms/step - loss: 0.4631 - log_loss: 0.4622 - precision: 0.3333 - recall: 0.0031 - binary_accuracy: 0.8085 - val_loss: 0.4638 - val_log_loss: 0.4636 - val_precision: 0.0000e+00 - val_recall: 0.0000e+00 - val_binary_accuracy: 0.8087 - lr: 0.0010\n",
      "Epoch 6/500\n",
      "23/23 [==============================] - 1s 51ms/step - loss: 0.4554 - log_loss: 0.4558 - precision: 0.7188 - recall: 0.0239 - binary_accuracy: 0.8119 - val_loss: 0.4585 - val_log_loss: 0.4579 - val_precision: 0.0000e+00 - val_recall: 0.0000e+00 - val_binary_accuracy: 0.8087 - lr: 0.0010\n",
      "Epoch 7/500\n",
      "23/23 [==============================] - 1s 51ms/step - loss: 0.4483 - log_loss: 0.4479 - precision: 0.5517 - recall: 0.0333 - binary_accuracy: 0.8103 - val_loss: 0.4462 - val_log_loss: 0.4447 - val_precision: 0.5435 - val_recall: 0.1037 - val_binary_accuracy: 0.8119 - lr: 0.0010\n",
      "Epoch 8/500\n",
      "23/23 [==============================] - 1s 51ms/step - loss: 0.4401 - log_loss: 0.4406 - precision: 0.5649 - recall: 0.0904 - binary_accuracy: 0.8131 - val_loss: 0.4369 - val_log_loss: 0.4355 - val_precision: 0.5400 - val_recall: 0.1120 - val_binary_accuracy: 0.8119 - lr: 0.0010\n",
      "Epoch 9/500\n",
      "23/23 [==============================] - 1s 49ms/step - loss: 0.4305 - log_loss: 0.4302 - precision: 0.5951 - recall: 0.1528 - binary_accuracy: 0.8185 - val_loss: 0.4359 - val_log_loss: 0.4342 - val_precision: 0.4857 - val_recall: 0.1411 - val_binary_accuracy: 0.8071 - lr: 0.0010\n",
      "Epoch 10/500\n",
      "23/23 [==============================] - 1s 44ms/step - loss: 0.4298 - log_loss: 0.4303 - precision: 0.5748 - recall: 0.1518 - binary_accuracy: 0.8167 - val_loss: 0.4310 - val_log_loss: 0.4296 - val_precision: 0.5455 - val_recall: 0.1245 - val_binary_accuracy: 0.8127 - lr: 0.0010\n",
      "Epoch 11/500\n",
      "23/23 [==============================] - 1s 44ms/step - loss: 0.4250 - log_loss: 0.4237 - precision: 0.5963 - recall: 0.1674 - binary_accuracy: 0.8194 - val_loss: 0.4293 - val_log_loss: 0.4275 - val_precision: 0.5410 - val_recall: 0.1369 - val_binary_accuracy: 0.8127 - lr: 0.0010\n",
      "Epoch 12/500\n",
      "23/23 [==============================] - 1s 44ms/step - loss: 0.4205 - log_loss: 0.4203 - precision: 0.5684 - recall: 0.1684 - binary_accuracy: 0.8169 - val_loss: 0.4353 - val_log_loss: 0.4334 - val_precision: 0.5469 - val_recall: 0.1452 - val_binary_accuracy: 0.8135 - lr: 0.0010\n",
      "Epoch 13/500\n",
      "23/23 [==============================] - 1s 44ms/step - loss: 0.4099 - log_loss: 0.4093 - precision: 0.6076 - recall: 0.1996 - binary_accuracy: 0.8226 - val_loss: 0.4323 - val_log_loss: 0.4310 - val_precision: 0.6000 - val_recall: 0.1245 - val_binary_accuracy: 0.8167 - lr: 0.0010\n",
      "Epoch 14/500\n",
      "23/23 [==============================] - 1s 44ms/step - loss: 0.4030 - log_loss: 0.4018 - precision: 0.6217 - recall: 0.1965 - binary_accuracy: 0.8238 - val_loss: 0.4365 - val_log_loss: 0.4350 - val_precision: 0.4691 - val_recall: 0.1577 - val_binary_accuracy: 0.8048 - lr: 0.0010\n",
      "Epoch 15/500\n",
      "23/23 [==============================] - 1s 44ms/step - loss: 0.3835 - log_loss: 0.3834 - precision: 0.6411 - recall: 0.2692 - binary_accuracy: 0.8317 - val_loss: 0.4427 - val_log_loss: 0.4413 - val_precision: 0.4563 - val_recall: 0.1950 - val_binary_accuracy: 0.8016 - lr: 5.0000e-04\n",
      "Epoch 16/500\n",
      "23/23 [==============================] - 1s 44ms/step - loss: 0.3670 - log_loss: 0.3664 - precision: 0.6749 - recall: 0.2827 - binary_accuracy: 0.8371 - val_loss: 0.4638 - val_log_loss: 0.4613 - val_precision: 0.4314 - val_recall: 0.1826 - val_binary_accuracy: 0.7976 - lr: 5.0000e-04\n",
      "Epoch 17/500\n",
      "23/23 [==============================] - 1s 44ms/step - loss: 0.3447 - log_loss: 0.3448 - precision: 0.6992 - recall: 0.3576 - binary_accuracy: 0.8480 - val_loss: 0.4785 - val_log_loss: 0.4757 - val_precision: 0.4222 - val_recall: 0.2365 - val_binary_accuracy: 0.7921 - lr: 5.0000e-04\n",
      "Epoch 18/500\n",
      "23/23 [==============================] - 1s 44ms/step - loss: 0.3260 - log_loss: 0.3270 - precision: 0.7216 - recall: 0.4096 - binary_accuracy: 0.8571 - val_loss: 0.4863 - val_log_loss: 0.4833 - val_precision: 0.4132 - val_recall: 0.2075 - val_binary_accuracy: 0.7921 - lr: 2.5000e-04\n",
      "Epoch 19/500\n",
      "23/23 [==============================] - 1s 44ms/step - loss: 0.3076 - log_loss: 0.3083 - precision: 0.7616 - recall: 0.4418 - binary_accuracy: 0.8671 - val_loss: 0.5127 - val_log_loss: 0.5105 - val_precision: 0.4265 - val_recall: 0.2407 - val_binary_accuracy: 0.7929 - lr: 2.5000e-04\n"
     ]
    }
   ],
   "source": [
    "with tf.device(\"/device:GPU:0\"):\n",
    "  history = model.fit(\n",
    "  x=[img_arr_s,fac_input_s, clr_input_s],\n",
    "  y=y_out_s,\n",
    "  validation_split=0.2,\n",
    "  epochs=500,\n",
    "  callbacks=[lr_scheduler, tf.keras.callbacks.EarlyStopping(patience=8)],\n",
    "  #class_weight = cw,\n",
    "  batch_size=32\n",
    ")"
   ]
  },
  {
   "cell_type": "code",
   "execution_count": 192,
   "metadata": {},
   "outputs": [
    {
     "data": {
      "image/png": "[encoded data removed]",
      "text/plain": [
       "<Figure size 576x576 with 2 Axes>"
      ]
     },
     "metadata": {
      "needs_background": "light"
     },
     "output_type": "display_data"
    }
   ],
   "source": [
    "import matplotlib.pyplot as plt\n",
    "\n",
    "acc = history.history['log_loss']\n",
    "val_acc = history.history['val_log_loss']\n",
    "\n",
    "loss = history.history['recall']\n",
    "val_loss = history.history['val_recall']\n",
    "\n",
    "epochs_range = range(19)\n",
    "\n",
    "plt.figure(figsize=(8, 8))\n",
    "plt.subplot(1, 2, 1)\n",
    "plt.plot(epochs_range, acc, label='Training Loss')\n",
    "plt.plot(epochs_range, val_acc, label='Validation Loss')\n",
    "plt.legend(loc='lower right')\n",
    "plt.title('Training and Validation Loss')\n",
    "\n",
    "plt.subplot(1, 2, 2)\n",
    "plt.plot(epochs_range, loss, label='Training Acc')\n",
    "plt.plot(epochs_range, val_loss, label='Validation Acc')\n",
    "plt.legend(loc='upper right')\n",
    "plt.title('Training and Validation Acc')\n",
    "plt.show()"
   ]
  },
  {
   "cell_type": "code",
   "execution_count": 54,
   "metadata": {},
   "outputs": [],
   "source": [
    "#model.save('./models/cnn_7gen_3input.h5')"
   ]
  },
  {
   "cell_type": "code",
   "execution_count": 166,
   "metadata": {},
   "outputs": [
    {
     "name": "stdout",
     "output_type": "stream",
     "text": [
      "4/4 [==============================] - 0s 16ms/step - loss: 0.5673 - log_loss: 0.5646 - precision: 0.3297 - recall: 0.1961 - binary_accuracy: 0.7734\n"
     ]
    },
    {
     "data": {
      "text/plain": [
       "[0.567281186580658,\n",
       " 0.5646249055862427,\n",
       " 0.32967033982276917,\n",
       " 0.19607843458652496,\n",
       " 0.7733989953994751]"
      ]
     },
     "execution_count": 166,
     "metadata": {},
     "output_type": "execute_result"
    }
   ],
   "source": [
    "model.evaluate([img_arr_test,fac_inp_test,clr_inp_test], y_out_test)"
   ]
  },
  {
   "cell_type": "code",
   "execution_count": 193,
   "metadata": {},
   "outputs": [
    {
     "data": {
      "text/plain": [
       "0.2411538461538461"
      ]
     },
     "execution_count": 193,
     "metadata": {},
     "output_type": "execute_result"
    }
   ],
   "source": [
    "2/(1/0.33 + 1/0.19)"
   ]
  },
  {
   "cell_type": "code",
   "execution_count": 50,
   "metadata": {},
   "outputs": [
    {
     "name": "stdout",
     "output_type": "stream",
     "text": [
      "4/4 [==============================] - 0s 17ms/step - loss: 1.4837 - log_loss: 1.3365 - precision: 0.4597 - recall: 0.3725 - binary_accuracy: 0.7993\n"
     ]
    },
    {
     "data": {
      "text/plain": [
       "[1.4836727380752563,\n",
       " 1.3364759683609009,\n",
       " 0.45967742800712585,\n",
       " 0.37254902720451355,\n",
       " 0.7992610335350037]"
      ]
     },
     "execution_count": 50,
     "metadata": {},
     "output_type": "execute_result"
    }
   ],
   "source": [
    "model.evaluate([img_arr_test,fac_inp_test,clr_inp_test], y_out_test)"
   ]
  },
  {
   "cell_type": "code",
   "execution_count": 51,
   "metadata": {},
   "outputs": [
    {
     "data": {
      "text/plain": [
       "0.41012048192771083"
      ]
     },
     "execution_count": 51,
     "metadata": {},
     "output_type": "execute_result"
    }
   ],
   "source": [
    "2/(1/0.46 + 1/0.37)"
   ]
  },
  {
   "cell_type": "code",
   "execution_count": 52,
   "metadata": {},
   "outputs": [],
   "source": [
    "k = model.predict([img_arr_test,fac_inp_test,clr_inp_test])"
   ]
  },
  {
   "cell_type": "code",
   "execution_count": 53,
   "metadata": {},
   "outputs": [
    {
     "name": "stdout",
     "output_type": "stream",
     "text": [
      "[2.3111143e-06 1.6395388e-08 1.0000000e+00 7.4351971e-07 1.9042652e-06\n",
      " 6.3482104e-05 7.5675649e-05]\n",
      "[0. 0. 1. 0. 0. 0. 0.]\n",
      "[9.6876222e-01 2.1374977e-05 3.9662301e-04 9.7014701e-05 5.9331080e-05\n",
      " 9.9052548e-01 9.9232167e-01]\n",
      "[1. 0. 0. 0. 0. 1. 1.]\n",
      "[3.7394781e-09 7.2938156e-10 1.0000000e+00 7.9755841e-07 1.3545443e-07\n",
      " 5.8033368e-07 2.4981880e-06]\n",
      "[0. 0. 1. 0. 0. 0. 0.]\n",
      "[9.9999845e-01 2.2510061e-04 2.4263492e-05 8.4985015e-09 1.5124371e-06\n",
      " 1.9035389e-06 1.6996951e-06]\n",
      "[1. 0. 0. 0. 0. 0. 0.]\n",
      "[3.1649515e-15 4.5754374e-15 2.1824185e-07 1.0000000e+00 2.6153759e-09\n",
      " 6.1589102e-11 2.2318832e-10]\n",
      "[0. 0. 0. 1. 0. 0. 0.]\n",
      "[3.38161693e-10 3.50087390e-07 1.33182975e-05 2.43986960e-05\n",
      " 9.99972820e-01 6.13511872e-08 5.03824324e-08]\n",
      "[0. 0. 0. 0. 1. 0. 0.]\n",
      "[1.1660520e-07 8.8807326e-07 3.4613222e-05 4.1359999e-05 1.8515320e-05\n",
      " 9.9992073e-01 7.2216666e-05]\n",
      "[0. 0. 0. 0. 0. 1. 0.]\n",
      "[3.4525860e-06 3.5062887e-05 2.5243155e-05 1.6991767e-07 9.9995720e-01\n",
      " 2.4643508e-05 2.8282555e-05]\n",
      "[0. 0. 0. 0. 1. 0. 0.]\n",
      "[2.8952734e-06 1.8640205e-05 7.8852245e-05 6.5270132e-07 3.5547506e-04\n",
      " 1.6266622e-03 9.9998641e-01]\n",
      "[0. 0. 0. 0. 0. 0. 1.]\n",
      "[4.6184575e-04 6.2116457e-04 9.9990606e-01 5.4945669e-04 9.1077830e-04\n",
      " 1.8490547e-04 1.7338685e-05]\n",
      "[0. 0. 1. 0. 0. 0. 0.]\n",
      "[1.44780497e-04 9.99877572e-01 1.95307119e-04 1.54285408e-06\n",
      " 1.02302096e-04 2.97295599e-04 5.58848376e-04]\n",
      "[0. 1. 0. 0. 0. 0. 0.]\n",
      "[3.4571890e-06 6.8313988e-05 4.4806779e-04 5.5839642e-05 9.9912053e-01\n",
      " 4.5784623e-06 5.9722521e-04]\n",
      "[0. 0. 0. 0. 1. 0. 0.]\n",
      "[7.9382367e-08 1.6796186e-05 6.7307432e-05 9.9998415e-01 7.1836848e-06\n",
      " 6.9353979e-07 7.6656888e-06]\n",
      "[0. 0. 0. 1. 0. 0. 0.]\n",
      "[3.6873160e-05 9.9957210e-01 4.0459487e-04 4.7263250e-04 9.8235602e-04\n",
      " 1.0807146e-02 9.4335442e-03]\n",
      "[0. 1. 0. 0. 0. 0. 0.]\n",
      "[1.2352535e-07 3.8069710e-03 9.5828973e-06 5.6967217e-02 3.0710446e-02\n",
      " 1.3093125e-04 5.7652079e-07]\n",
      "[0. 0. 0. 1. 0. 0. 0.]\n",
      "[2.3806571e-04 2.4265398e-06 2.7964750e-01 1.2209587e-04 2.2111427e-02\n",
      " 7.5991229e-05 2.5908192e-05]\n",
      "[1. 0. 1. 0. 0. 1. 1.]\n",
      "[0.00084012 0.28564808 0.00040278 0.06467473 0.03520243 0.0005619\n",
      " 0.00119725]\n",
      "[0. 0. 0. 0. 1. 1. 0.]\n",
      "[2.3005557e-08 1.2278221e-08 9.7570193e-01 1.5399796e-03 3.6341593e-01\n",
      " 3.6383728e-05 5.5325888e-10]\n",
      "[0. 1. 0. 0. 0. 0. 0.]\n",
      "[0.963477   0.02220201 0.0031056  0.0014654  0.00102905 0.4386424\n",
      " 0.0091366 ]\n",
      "[0. 0. 0. 0. 1. 0. 0.]\n",
      "[5.6604907e-04 8.9138024e-04 1.9402296e-06 1.1732834e-02 1.5917399e-06\n",
      " 4.7072524e-04 4.8933070e-02]\n",
      "[0. 0. 0. 0. 1. 0. 0.]\n"
     ]
    }
   ],
   "source": [
    "for i in range(20):\n",
    "    print(k[i])\n",
    "    print(y_out_test[i])"
   ]
  },
  {
   "cell_type": "code",
   "execution_count": 24,
   "metadata": {},
   "outputs": [
    {
     "name": "stdout",
     "output_type": "stream",
     "text": [
      "Blues :  42\n",
      "Electronic :  89\n",
      "Folk, World, & Country :  112\n",
      "Funk&Soul :  370\n",
      "Hip Hop :  135\n",
      "Jazz :  250\n",
      "Latin :  47\n",
      "Pop :  347\n",
      "Reggae :  51\n",
      "Rock :  230\n",
      "Stage & Screen :  50\n"
     ]
    }
   ],
   "source": [
    "for genre in y_data.columns:\n",
    "    print(genre, ': ', len(y_data[y_data[genre] == 1]))"
   ]
  },
  {
   "cell_type": "code",
   "execution_count": 25,
   "metadata": {},
   "outputs": [],
   "source": [
    "import numpy as np\n",
    "\n",
    "a = np.array([0.19068299, 0.38264576, 0.5112294 , 0.91950315, 0.6525794 , 0.7625765 , 0.18932, 0.8939849 , 0.31639096, 0.84405494, 0.17323612])"
   ]
  },
  {
   "cell_type": "code",
   "execution_count": 94,
   "metadata": {},
   "outputs": [],
   "source": [
    "import tensorflow as tf\n",
    "\n",
    "b = tf.round(asdf)"
   ]
  },
  {
   "cell_type": "code",
   "execution_count": 26,
   "metadata": {},
   "outputs": [
    {
     "data": {
      "text/plain": [
       "array([[0.05662136, 0.16607894, 0.18742241, 0.37353346, 0.14911813,\n",
       "        0.28890982, 0.11232238, 0.39391008, 0.14130892, 0.29082528,\n",
       "        0.12739693],\n",
       "       [0.14905626, 0.17031601, 0.20042908, 0.38828355, 0.25353763,\n",
       "        0.3042009 , 0.15369332, 0.34080786, 0.16111292, 0.3143366 ,\n",
       "        0.20126592],\n",
       "       [0.04779759, 0.12222886, 0.19187751, 0.35770586, 0.17011602,\n",
       "        0.24943049, 0.11327174, 0.3911908 , 0.12177941, 0.26476833,\n",
       "        0.10248082]], dtype=float32)"
      ]
     },
     "execution_count": 26,
     "metadata": {},
     "output_type": "execute_result"
    }
   ],
   "source": [
    "asdf"
   ]
  },
  {
   "cell_type": "code",
   "execution_count": 96,
   "metadata": {},
   "outputs": [],
   "source": [
    "def round_up(a):\n",
    "    if a - int(a) >= 0.8:\n",
    "        return int(a) + 1\n",
    "    return int(a)"
   ]
  },
  {
   "cell_type": "code",
   "execution_count": 31,
   "metadata": {},
   "outputs": [
    {
     "data": {
      "text/plain": [
       "array([[False, False, False,  True, False, False, False,  True, False,\n",
       "        False, False],\n",
       "       [False, False,  True,  True,  True,  True, False,  True,  True,\n",
       "         True,  True],\n",
       "       [False, False, False,  True, False,  True, False,  True, False,\n",
       "         True, False]])"
      ]
     },
     "execution_count": 31,
     "metadata": {},
     "output_type": "execute_result"
    }
   ],
   "source": [
    "model.predict([img_arr_s[360:363],fac_input_s[360:363], clr_input_s[360:363]]) > 0.3"
   ]
  },
  {
   "cell_type": "code",
   "execution_count": 107,
   "metadata": {},
   "outputs": [
    {
     "data": {
      "text/plain": [
       "array([[False, False, False, False,  True, False, False,  True, False,\n",
       "        False, False],\n",
       "       [False, False, False, False, False, False,  True,  True, False,\n",
       "         True, False],\n",
       "       [False, False, False, False,  True, False, False, False, False,\n",
       "        False, False]])"
      ]
     },
     "execution_count": 107,
     "metadata": {},
     "output_type": "execute_result"
    }
   ],
   "source": [
    "y_out_s[360:363] > 0.8"
   ]
  },
  {
   "cell_type": "code",
   "execution_count": null,
   "metadata": {},
   "outputs": [],
   "source": [
    "import sklearn\n",
    "\n",
    "sklearn.utils.class_weight.compute_class_weight()"
   ]
  }
 ],
 "metadata": {
  "interpreter": {
   "hash": "9cda7dce2d78f3c21f6a73de63970ac35274352b7a0f13225446d99cae259cfd"
  },
  "kernelspec": {
   "display_name": "Python 3.9.7 ('base')",
   "language": "python",
   "name": "python3"
  },
  "language_info": {
   "codemirror_mode": {
    "name": "ipython",
    "version": 3
   },
   "file_extension": ".py",
   "mimetype": "text/x-python",
   "name": "python",
   "nbconvert_exporter": "python",
   "pygments_lexer": "ipython3",
   "version": "3.9.7"
  },
  "orig_nbformat": 4
 },
 "nbformat": 4,
 "nbformat_minor": 2
}
