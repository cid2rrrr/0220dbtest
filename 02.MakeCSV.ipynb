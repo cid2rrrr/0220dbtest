{
 "cells": [
  {
   "cell_type": "markdown",
   "metadata": {},
   "source": [
    "# Making CSV file"
   ]
  },
  {
   "cell_type": "code",
   "execution_count": null,
   "metadata": {},
   "outputs": [],
   "source": [
    "import os\n",
    "import pandas as pd\n",
    "import cv2\n",
    "from deepface import DeepFace\n",
    "\n",
    "from dominant_color_detection import detect_colors\n",
    "from PIL import ImageColor"
   ]
  },
  {
   "cell_type": "markdown",
   "metadata": {},
   "source": [
    "make dataframe whose column contains info. of IMGs"
   ]
  },
  {
   "cell_type": "code",
   "execution_count": null,
   "metadata": {},
   "outputs": [],
   "source": [
    "album_data = pd.DataFrame(columns=['master_release', 'path','is_multi_labeled', \\\n",
    "    'histo_grey', 'histo_rgb', 'dominant_r', 'dominant_g', 'dominant_b', \\\n",
    "        'age', 'gender', 'race', 'dominant_race', 'emotion', 'dominant_emotion'])"
   ]
  },
  {
   "cell_type": "code",
   "execution_count": null,
   "metadata": {},
   "outputs": [],
   "source": [
    "win_dir = r\"D:\\AlbumCover\"\n",
    "macos_dir = \"/Users/cooky/Documents/GitHub/0220dbtest/img/\"\n",
    "\n",
    "read_path = win_dir"
   ]
  },
  {
   "cell_type": "markdown",
   "metadata": {},
   "source": [
    "Make Genre Columns"
   ]
  },
  {
   "cell_type": "code",
   "execution_count": null,
   "metadata": {},
   "outputs": [],
   "source": [
    "for dir in os.listdir(read_path):\n",
    "    if dir == '.DS_Store':\n",
    "        continue\n",
    "    if dir == 'multi':\n",
    "        continue\n",
    "    album_data[dir] = 0"
   ]
  },
  {
   "cell_type": "code",
   "execution_count": null,
   "metadata": {},
   "outputs": [],
   "source": [
    "# Read the names of folders in the path\n",
    "for dir in os.listdir(read_path):\n",
    "    \n",
    "    if dir == 'multi' or dir == '.DS_Store':\n",
    "        continue\n",
    "    \n",
    "    # open the each folder\n",
    "    img_files = os.listdir(os.path.join(read_path, dir));\n",
    "    if dir == '.DS_Store':\n",
    "        continue\n",
    "    \n",
    "    # read the name of IMG files and put'em into dataframe\n",
    "    for img_file in img_files:\n",
    "        if img_file == '.DS_Store':\n",
    "            continue\n",
    "        img_path = os.path.join(os.path.join(dir, img_file))\n",
    "        img_info = cv2.imread(os.path.join(read_path, img_path), 0)\n",
    "        \n",
    "        # check whether there's a face in the album cover\n",
    "        try:\n",
    "            obj = DeepFace.analyze(img_path=os.path.join(read_path, img_path), actions = ['age', 'gender', 'race', 'emotion'])\n",
    "        except ValueError:\n",
    "            obj = None\n",
    "        finally:\n",
    "            # 0427 dominant color\n",
    "            colors, ratio = detect_colors(os.path.join(read_path, img_path), 1)\n",
    "            rgb_tuple = ImageColor.getcolor(colors[0], \"RGB\")\n",
    "            # -----\n",
    "            \n",
    "            if obj is not None:\n",
    "                print('single yes')\n",
    "                album_data = album_data.append({'master_release' : img_file[:-5],\n",
    "                                                'path' : img_path,\n",
    "                                                'is_multi_labeled' : False,\n",
    "                                                'histo_grey' : cv2.calcHist([img_info], [0], None, [256], [0,256],),\n",
    "                                                # 0427 dominant color\n",
    "                                                'dominant_r' : rgb_tuple[0],\n",
    "                                                'dominant_g' : rgb_tuple[1],\n",
    "                                                'dominant_b' : rgb_tuple[2],\n",
    "                                                # -----\n",
    "                                                dir:1,\n",
    "                                                'age' : obj['age'],\n",
    "                                                'gender' : obj['gender'],\n",
    "                                                'race' : str(obj['race']),\n",
    "                                                'dominant_race' : obj['dominant_race'],\n",
    "                                                'emotion' : str(obj['emotion']),\n",
    "                                                'dominant_emotion' : obj['dominant_emotion']\n",
    "                                                }, ignore_index=True)\n",
    "            else:\n",
    "                album_data = album_data.append({'master_release' : img_file[:-5],\n",
    "                                                'path' : img_path,\n",
    "                                                'is_multi_labeled' : False,\n",
    "                                                'histo_grey' : cv2.calcHist([img_info], [0], None, [256], [0,256],),\n",
    "                                                # 0427 dominant color\n",
    "                                                'dominant_r' : rgb_tuple[0],\n",
    "                                                'dominant_g' : rgb_tuple[1],\n",
    "                                                'dominant_b' : rgb_tuple[2],\n",
    "                                                # -----\n",
    "                                                dir:1,\n",
    "                                                }, ignore_index=True)\n",
    "\n",
    "\n",
    "    \n",
    "\n",
    "# Now adding multi genre album data\n",
    "\n",
    "multi_path =  os.path.join(read_path, 'multi')\n",
    "\n",
    "# each folders\n",
    "for multi_gens in os.listdir(multi_path):\n",
    "    if multi_gens == '.DS_Store':\n",
    "        continue\n",
    "    # each songs\n",
    "    for multi_gen_songs in os.listdir(os.path.join(multi_path, multi_gens)):\n",
    "        if multi_gen_songs == '.DS_Store':\n",
    "            continue\n",
    "        # make temp dataframe\n",
    "        img_path = os.path.join(multi_path, multi_gens, multi_gen_songs)\n",
    "        img_info = cv2.imread(img_path, 0)\n",
    "        # 0427 dominant color\n",
    "        colors, ratio = detect_colors(os.path.join(multi_path, multi_gens, multi_gen_songs), 1)\n",
    "        rgb_tuple = ImageColor.getcolor(colors[0], \"RGB\")\n",
    "        # -----\n",
    "        imsi_df = pd.DataFrame(columns=['master_release', 'path','is_multi_labeled', \\\n",
    "                                        'histo_grey', 'histo_rgb', 'dominant_r', 'dominant_g', 'dominant_b' \\\n",
    "                                        ])\n",
    "        print(multi_gen_songs)\n",
    "        imsi_df = imsi_df.append({'master_release' : multi_gen_songs[:-5],\n",
    "                                        'path' : os.path.join('multi', multi_gens, multi_gen_songs),\n",
    "                                        'is_multi_labeled' : True,\n",
    "                                        # 0427 dominant color\n",
    "                                        'dominant_r' : rgb_tuple[0],\n",
    "                                        'dominant_g' : rgb_tuple[1],\n",
    "                                        'dominant_b' : rgb_tuple[2],\n",
    "                                        # -----\n",
    "                                        'histo_grey' : cv2.calcHist([img_info], [0], None, [256], [0,256])},\n",
    "                                        ignore_index=True)\n",
    "        \n",
    "        try:\n",
    "            obj = DeepFace.analyze(img_path=img_path, actions = ['age', 'gender', 'race', 'emotion'])\n",
    "        except ValueError:\n",
    "            obj = None\n",
    "        finally:\n",
    "        # adding genre info\n",
    "            for gen in multi_gens.split('+'):\n",
    "                imsi_df[gen] = 1\n",
    "            \n",
    "            if obj is not None:\n",
    "                print('multi yes')\n",
    "                for data in obj:\n",
    "                    if data != 'region':\n",
    "                        imsi_df[data] = str(obj[data])\n",
    "\n",
    "            #adding imsi_df into album_data\n",
    "            album_data = album_data.append(imsi_df, ignore_index=True)\n",
    "\n"
   ]
  },
  {
   "cell_type": "code",
   "execution_count": null,
   "metadata": {},
   "outputs": [],
   "source": [
    "# fillNa\n",
    "album_data = album_data.fillna(0)"
   ]
  },
  {
   "cell_type": "markdown",
   "metadata": {},
   "source": [
    "Refining Little bit "
   ]
  },
  {
   "cell_type": "code",
   "execution_count": null,
   "metadata": {},
   "outputs": [],
   "source": [
    "album_data = album_data.drop(['Unnamed: 0', 'is_multi_labeled', 'histo_grey', 'histo_rgb', 'dominant_bage'], axis=1)\n",
    "\n",
    "    \n",
    "album_data = album_data.reindex(columns=['master_release', 'path', 'dominant_r', 'dominant_g', 'dominant_b', 'gender','age','dominant_race', 'emotion', 'Blues', 'Brass & Military', \"Children's\", \\\n",
    "    'Classical', 'Electronic', 'Folk, World, & Country', 'Funk&Soul', 'Hip Hop', 'Jazz', 'Latin', 'Non-Music', 'Pop', 'Reggae', 'Rock', 'Stage & Screen'])\n"
   ]
  },
  {
   "cell_type": "markdown",
   "metadata": {},
   "source": [
    "Save without index"
   ]
  },
  {
   "cell_type": "code",
   "execution_count": null,
   "metadata": {},
   "outputs": [],
   "source": [
    "pd.DataFrame.to_csv(album_data, 'album_data_0427.csv', index=False)"
   ]
  }
 ],
 "metadata": {
  "language_info": {
   "name": "python"
  },
  "orig_nbformat": 4
 },
 "nbformat": 4,
 "nbformat_minor": 2
}
