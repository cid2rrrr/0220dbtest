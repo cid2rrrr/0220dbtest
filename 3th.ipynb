{
 "cells": [
  {
   "cell_type": "code",
   "execution_count": 1,
   "metadata": {},
   "outputs": [],
   "source": [
    "w1 = 0.3\n",
    "w2 = 0.25\n",
    "w3 = 0.4\n",
    "w4 = 0.35\n",
    "w5 = 0.45\n",
    "w6 = 0.6\n",
    "w7 = 0.7\n",
    "w8 = 0.6"
   ]
  },
  {
   "cell_type": "code",
   "execution_count": 2,
   "metadata": {},
   "outputs": [],
   "source": [
    "x1 = 0.1\n",
    "x2 = 0.2"
   ]
  },
  {
   "cell_type": "code",
   "execution_count": 7,
   "metadata": {},
   "outputs": [],
   "source": [
    "z1 = w1*x1 + w2*x2\n",
    "z2 = w3*x1 + w4*x2\n",
    "z3 = w5*h1 + w6*h2\n",
    "z4 = w7*h1 + w8*h2"
   ]
  },
  {
   "cell_type": "code",
   "execution_count": 3,
   "metadata": {},
   "outputs": [],
   "source": [
    "import numpy as np\n",
    "\n",
    "def sig(x):\n",
    "    return 1 / ( 1 + np.exp(-x))"
   ]
  },
  {
   "cell_type": "code",
   "execution_count": 6,
   "metadata": {},
   "outputs": [],
   "source": [
    "h1 = sig(z1)\n",
    "h2 = sig(z2)"
   ]
  },
  {
   "cell_type": "code",
   "execution_count": 9,
   "metadata": {},
   "outputs": [],
   "source": [
    "o1 = sig(z3)\n",
    "o2 = sig(z4)"
   ]
  },
  {
   "cell_type": "code",
   "execution_count": 10,
   "metadata": {},
   "outputs": [],
   "source": [
    "TARGET_O1 = 0.4\n",
    "TARGET_O2 = 0.6\n",
    "\n",
    "ERRo1 = (TARGET_O1 - o1)**2 / 2\n",
    "ERRo2 = (TARGET_O2 - o2)**2 / 2"
   ]
  },
  {
   "cell_type": "code",
   "execution_count": 12,
   "metadata": {},
   "outputs": [],
   "source": [
    "ERRtotal = ERRo1 + ERRo2\n",
    "\n",
    "delta_Et_o1 = -(TARGET_O1 - o1)\n",
    "delta_o1_z3 = o1 * (1 - o1)\n",
    "delta_z3_w5 = h1\n",
    "\n",
    "delta_Et_w5 = delta_Et_o1 * delta_o1_z3 * delta_z3_w5\n",
    "\n",
    "delta_tlu_o1 = delta_Et_o1 * delta_o1_z3\n",
    "\n",
    "Et_deltaw5 = delta_tlu_o1 * h1"
   ]
  },
  {
   "cell_type": "code",
   "execution_count": null,
   "metadata": {},
   "outputs": [],
   "source": []
  }
 ],
 "metadata": {
  "interpreter": {
   "hash": "6f8a20b05ec2491130b4ea21d01670d419f0cf2eec4788e2e28d4b648b8aa4e9"
  },
  "kernelspec": {
   "display_name": "Python 3.9.9 ('cookyflow')",
   "language": "python",
   "name": "python3"
  },
  "language_info": {
   "codemirror_mode": {
    "name": "ipython",
    "version": 3
   },
   "file_extension": ".py",
   "mimetype": "text/x-python",
   "name": "python",
   "nbconvert_exporter": "python",
   "pygments_lexer": "ipython3",
   "version": "3.9.9"
  },
  "orig_nbformat": 4
 },
 "nbformat": 4,
 "nbformat_minor": 2
}
