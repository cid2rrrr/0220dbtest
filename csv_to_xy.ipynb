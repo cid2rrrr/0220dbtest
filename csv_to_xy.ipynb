{
 "cells": [
  {
   "cell_type": "code",
   "execution_count": 1,
   "metadata": {},
   "outputs": [],
   "source": [
    "import tensorflow as tf\n",
    "import pandas as pd\n",
    "import numpy as np"
   ]
  },
  {
   "cell_type": "code",
   "execution_count": 2,
   "metadata": {},
   "outputs": [],
   "source": [
    "x_data = pd.read_csv('./dataset/clr.csv')"
   ]
  },
  {
   "cell_type": "code",
   "execution_count": 3,
   "metadata": {},
   "outputs": [],
   "source": [
    "y_data = pd.read_csv('./dataset/y_label.csv')"
   ]
  },
  {
   "cell_type": "code",
   "execution_count": 4,
   "metadata": {},
   "outputs": [],
   "source": [
    "x_data = x_data.drop('Unnamed: 0', axis=1)"
   ]
  },
  {
   "cell_type": "code",
   "execution_count": 5,
   "metadata": {},
   "outputs": [],
   "source": [
    "y_imsi = y_data.pop('Jazz')"
   ]
  },
  {
   "cell_type": "code",
   "execution_count": 6,
   "metadata": {},
   "outputs": [],
   "source": [
    "x_data_norm = (x_data - x_data.mean()) / x_data.std()"
   ]
  },
  {
   "cell_type": "code",
   "execution_count": 7,
   "metadata": {},
   "outputs": [],
   "source": [
    "x_lab = np.array(x_data_norm)"
   ]
  },
  {
   "cell_type": "code",
   "execution_count": null,
   "metadata": {},
   "outputs": [],
   "source": []
  },
  {
   "cell_type": "code",
   "execution_count": 8,
   "metadata": {},
   "outputs": [
    {
     "data": {
      "text/plain": [
       "array([[ 0.93416229,  1.33035195,  1.50647122],\n",
       "       [ 0.25970021, -0.06802576,  0.01016624],\n",
       "       [ 1.05044886,  1.50832729,  1.78079379],\n",
       "       ...,\n",
       "       [ 1.4690805 ,  0.69472572,  0.18473516],\n",
       "       [-0.50779112, -0.42397644, -0.31403317],\n",
       "       [ 0.07364171,  0.46590028,  0.75831873]])"
      ]
     },
     "execution_count": 8,
     "metadata": {},
     "output_type": "execute_result"
    }
   ],
   "source": [
    "x_lab"
   ]
  },
  {
   "cell_type": "code",
   "execution_count": 10,
   "metadata": {},
   "outputs": [
    {
     "data": {
      "text/plain": [
       "numpy.ndarray"
      ]
     },
     "execution_count": 10,
     "metadata": {},
     "output_type": "execute_result"
    }
   ],
   "source": [
    "type(x_lab)"
   ]
  },
  {
   "cell_type": "code",
   "execution_count": 45,
   "metadata": {},
   "outputs": [],
   "source": [
    "model = tf.keras.Sequential([\n",
    "    tf.keras.layers.Dense(64, activation='relu'),\n",
    "    tf.keras.layers.Dropout(0.2),\n",
    "    tf.keras.layers.Dense(64, activation='relu'),\n",
    "    tf.keras.layers.Dense(64, activation='relu'),\n",
    "    tf.keras.layers.Dense(12, activation='sigmoid')\n",
    "])"
   ]
  },
  {
   "cell_type": "code",
   "execution_count": 46,
   "metadata": {},
   "outputs": [],
   "source": [
    "from bpmll import bp_mll_loss\n",
    "\n",
    "from sklearn.metrics import log_loss"
   ]
  },
  {
   "cell_type": "code",
   "execution_count": 47,
   "metadata": {},
   "outputs": [],
   "source": [
    "from bp_mll import BPMLLLoss"
   ]
  },
  {
   "cell_type": "code",
   "execution_count": 52,
   "metadata": {},
   "outputs": [],
   "source": [
    "import torch"
   ]
  },
  {
   "cell_type": "code",
   "execution_count": 53,
   "metadata": {},
   "outputs": [],
   "source": [
    "optimizer = tf.keras.optimizers.SGD(learning_rate=0.01, momentum=0.9)\n",
    "\n",
    "model.compile(loss = tf.nn.softmax_cross_entropy_with_logits,\n",
    "              optimizer= optimizer,\n",
    "              metrics=['accuracy'])"
   ]
  },
  {
   "cell_type": "code",
   "execution_count": 55,
   "metadata": {},
   "outputs": [
    {
     "name": "stdout",
     "output_type": "stream",
     "text": [
      "Epoch 1/10\n",
      "38/38 [==============================] - 0s 10ms/step - loss: 2.5971 - accuracy: 0.2804\n",
      "Epoch 2/10\n",
      "38/38 [==============================] - 0s 5ms/step - loss: 2.5953 - accuracy: 0.2754\n",
      "Epoch 3/10\n",
      "38/38 [==============================] - 0s 5ms/step - loss: 2.5969 - accuracy: 0.2787\n",
      "Epoch 4/10\n",
      "38/38 [==============================] - 0s 5ms/step - loss: 2.5956 - accuracy: 0.2737\n",
      "Epoch 5/10\n",
      "38/38 [==============================] - 0s 5ms/step - loss: 2.5944 - accuracy: 0.2770\n",
      "Epoch 6/10\n",
      "38/38 [==============================] - 0s 5ms/step - loss: 2.5960 - accuracy: 0.2804\n",
      "Epoch 7/10\n",
      "38/38 [==============================] - 0s 5ms/step - loss: 2.5960 - accuracy: 0.2812\n",
      "Epoch 8/10\n",
      "38/38 [==============================] - 0s 5ms/step - loss: 2.5955 - accuracy: 0.2787\n",
      "Epoch 9/10\n",
      "38/38 [==============================] - 0s 5ms/step - loss: 2.5975 - accuracy: 0.2720\n",
      "Epoch 10/10\n",
      "38/38 [==============================] - 0s 5ms/step - loss: 2.5947 - accuracy: 0.2812\n"
     ]
    },
    {
     "data": {
      "text/plain": [
       "<keras.callbacks.History at 0x1cec811bee0>"
      ]
     },
     "execution_count": 55,
     "metadata": {},
     "output_type": "execute_result"
    }
   ],
   "source": [
    "model.fit(x_lab, y_data, epochs=10)"
   ]
  },
  {
   "cell_type": "code",
   "execution_count": 57,
   "metadata": {},
   "outputs": [
    {
     "name": "stdout",
     "output_type": "stream",
     "text": [
      "38/38 [==============================] - 0s 9ms/step - loss: 2.6632 - accuracy: 0.0724\n"
     ]
    },
    {
     "data": {
      "text/plain": [
       "[2.663189649581909, 0.07237936556339264]"
      ]
     },
     "execution_count": 57,
     "metadata": {},
     "output_type": "execute_result"
    }
   ],
   "source": [
    "model.evaluate(x_data, y_data)"
   ]
  },
  {
   "cell_type": "code",
   "execution_count": null,
   "metadata": {},
   "outputs": [],
   "source": []
  }
 ],
 "metadata": {
  "interpreter": {
   "hash": "63d951818e0e5cb28afb817a11ed79a1cb94b43c078bc1b9cbd3d917e55460bb"
  },
  "kernelspec": {
   "display_name": "Python 3.9.7 ('base')",
   "language": "python",
   "name": "python3"
  },
  "language_info": {
   "codemirror_mode": {
    "name": "ipython",
    "version": 3
   },
   "file_extension": ".py",
   "mimetype": "text/x-python",
   "name": "python",
   "nbconvert_exporter": "python",
   "pygments_lexer": "ipython3",
   "version": "3.9.7"
  },
  "orig_nbformat": 4
 },
 "nbformat": 4,
 "nbformat_minor": 2
}
