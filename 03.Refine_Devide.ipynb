{
 "cells": [
  {
   "cell_type": "markdown",
   "metadata": {},
   "source": [
    "# Data division and purification"
   ]
  },
  {
   "cell_type": "code",
   "execution_count": 2,
   "metadata": {},
   "outputs": [],
   "source": [
    "import pandas as pd\n",
    "from ast import literal_eval"
   ]
  },
  {
   "cell_type": "markdown",
   "metadata": {},
   "source": [
    "Since we gonna use only AlbumCover containing facial information"
   ]
  },
  {
   "cell_type": "code",
   "execution_count": null,
   "metadata": {},
   "outputs": [],
   "source": [
    "df0427 = pd.read_csv('./dataset/album_data_0427.csv')"
   ]
  },
  {
   "cell_type": "code",
   "execution_count": null,
   "metadata": {},
   "outputs": [],
   "source": [
    "facial = df0427.copy()\n",
    "facial = facial[facial['age'] != 0]\n",
    "facial = facial.reset_index()"
   ]
  },
  {
   "cell_type": "markdown",
   "metadata": {},
   "source": [
    "if you want to shuffle the data, use the code below"
   ]
  },
  {
   "cell_type": "code",
   "execution_count": 6,
   "metadata": {},
   "outputs": [],
   "source": [
    "# import sklearn\n",
    "\n",
    "# imsi = sklearn.utils.shuffle(imsi)"
   ]
  },
  {
   "cell_type": "markdown",
   "metadata": {},
   "source": [
    "Also we have to make test data"
   ]
  },
  {
   "cell_type": "code",
   "execution_count": null,
   "metadata": {},
   "outputs": [],
   "source": [
    "# Not now"
   ]
  },
  {
   "cell_type": "markdown",
   "metadata": {},
   "source": [
    "Seperate to X and y"
   ]
  },
  {
   "cell_type": "code",
   "execution_count": null,
   "metadata": {},
   "outputs": [],
   "source": [
    "facial_X = facial.iloc[:,2:12]\n",
    "\n",
    "facial_y = facial.iloc[:,12:]\n"
   ]
  },
  {
   "cell_type": "markdown",
   "metadata": {},
   "source": [
    "Make Y_label CSV file"
   ]
  },
  {
   "cell_type": "code",
   "execution_count": null,
   "metadata": {},
   "outputs": [],
   "source": [
    "facial_y.to_csv('./dataset/y_label.csv', index=False)"
   ]
  },
  {
   "cell_type": "markdown",
   "metadata": {},
   "source": [
    "from X to IMG / Facial Info / Color Info"
   ]
  },
  {
   "cell_type": "code",
   "execution_count": null,
   "metadata": {},
   "outputs": [],
   "source": [
    "# Input Layer 1 : image (facial_x_img)\n",
    "facial_x_img = facial_X[['path']]\n",
    "\n",
    "# Input Layer 2 : facial info. (facial_x_face)\n",
    "facial_x_face_imsi = facial_X[['age', 'gender', 'dominant_race', 'emotion']]\n",
    "facial_x_face_imsi = facial_x_face_imsi.assign(angry=0.0, disgust=0.0, fear=0.0, happy=0.0, sad=0.0, surprise=0.0, neutral=0.0)\n",
    "\n",
    "for i in facial_x_face_imsi.index:\n",
    "    imsi_dict = literal_eval(facial_x_face_imsi['emotion'][i])\n",
    "    \n",
    "    for emo in imsi_dict:\n",
    "        facial_x_face_imsi[emo][i] = imsi_dict[emo]\n",
    "        \n",
    "facial_x_face = facial_x_face_imsi.drop(['emotion'], axis=1)\n",
    "\n",
    "# Input Layer 3 : dominant color. (facial_x_clr)\n",
    "facial_x_clr = facial_X[['dominant_r', 'dominant_g','dominant_b']]"
   ]
  },
  {
   "cell_type": "code",
   "execution_count": null,
   "metadata": {},
   "outputs": [],
   "source": [
    "pd.DataFrame.to_csv(facial_x_face, './dataset/facial.csv', index=False)\n",
    "pd.DataFrame.to_csv(facial_x_img, './dataset/img.csv', index=False)\n",
    "pd.DataFrame.to_csv(facial_x_clr, './dataset/clr.csv', index=False)\n",
    "\n",
    "# also save original dataframe to reuse\n",
    "pd.DataFrame.to_csv(facial, './dataset/onlyface_with_y.csv', index=False)"
   ]
  }
 ],
 "metadata": {
  "interpreter": {
   "hash": "9cda7dce2d78f3c21f6a73de63970ac35274352b7a0f13225446d99cae259cfd"
  },
  "kernelspec": {
   "display_name": "Python 3.9.7 ('base')",
   "language": "python",
   "name": "python3"
  },
  "language_info": {
   "codemirror_mode": {
    "name": "ipython",
    "version": 3
   },
   "file_extension": ".py",
   "mimetype": "text/x-python",
   "name": "python",
   "nbconvert_exporter": "python",
   "pygments_lexer": "ipython3",
   "version": "3.9.7"
  },
  "orig_nbformat": 4
 },
 "nbformat": 4,
 "nbformat_minor": 2
}
