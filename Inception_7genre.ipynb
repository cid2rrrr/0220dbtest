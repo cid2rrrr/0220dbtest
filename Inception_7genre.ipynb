{
 "cells": [
  {
   "cell_type": "code",
   "execution_count": null,
   "metadata": {},
   "outputs": [],
   "source": []
  },
  {
   "cell_type": "markdown",
   "metadata": {},
   "source": [
    "# Load Datasets"
   ]
  },
  {
   "cell_type": "code",
   "execution_count": 236,
   "metadata": {},
   "outputs": [],
   "source": [
    "import pandas as pd\n",
    "import numpy as np\n",
    "import tensorflow as tf\n",
    "from tensorflow import keras"
   ]
  },
  {
   "cell_type": "code",
   "execution_count": 237,
   "metadata": {},
   "outputs": [],
   "source": [
    "def load(file_path):\n",
    "    img = tf.io.read_file(file_path)\n",
    "    img = tf.image.decode_png(img, channels=3)\n",
    "    img = tf.image.convert_image_dtype(img, tf.float32)\n",
    "    img = tf.image.resize(img, size=(150, 150))\n",
    "    return img"
   ]
  },
  {
   "cell_type": "code",
   "execution_count": 238,
   "metadata": {},
   "outputs": [],
   "source": [
    "d_path = 'D:\\AlbumCover/'\n",
    "img_dataset_cache = pd.read_csv('./dataset/img.csv')\n",
    "img_dataset = img_dataset_cache.copy()"
   ]
  },
  {
   "cell_type": "code",
   "execution_count": 239,
   "metadata": {},
   "outputs": [],
   "source": [
    "img_arr = None\n",
    "\n",
    "for path in img_dataset['path']:\n",
    "    if img_arr is None:\n",
    "        img_arr = np.expand_dims(load(d_path + path), axis=0)\n",
    "    else:\n",
    "        img_arr = np.append(img_arr, np.expand_dims(load(d_path + path), axis=0), axis=0)\n",
    "        \n",
    "#img_arr = img_arr/255.0"
   ]
  },
  {
   "cell_type": "code",
   "execution_count": 240,
   "metadata": {},
   "outputs": [
    {
     "data": {
      "text/plain": [
       "(1016, 150, 150, 3)"
      ]
     },
     "execution_count": 240,
     "metadata": {},
     "output_type": "execute_result"
    }
   ],
   "source": [
    "img_arr.shape"
   ]
  },
  {
   "cell_type": "markdown",
   "metadata": {},
   "source": [
    "fac"
   ]
  },
  {
   "cell_type": "code",
   "execution_count": 241,
   "metadata": {},
   "outputs": [],
   "source": [
    "pre_facial = pd.read_csv('./dataset/facial.csv')\n",
    "\n",
    "if 'Unnamed: 0' in pre_facial.columns:\n",
    "    pre_facial = pre_facial.drop('Unnamed: 0', axis=1)"
   ]
  },
  {
   "cell_type": "code",
   "execution_count": 242,
   "metadata": {},
   "outputs": [],
   "source": [
    "imsi = pre_facial.copy()\n",
    "\n",
    "# categorical data to one-hot\n",
    "fac_input_df = pd.get_dummies(imsi, prefix=['gender', 'dominant_race'])\n",
    "\n",
    "# Normalization\n",
    "fac_input_norm = (fac_input_df - fac_input_df.mean()) / fac_input_df.std()\n",
    "\n",
    "fac_input = np.array(fac_input_norm)"
   ]
  },
  {
   "cell_type": "code",
   "execution_count": 243,
   "metadata": {},
   "outputs": [
    {
     "data": {
      "text/plain": [
       "(1016, 16)"
      ]
     },
     "execution_count": 243,
     "metadata": {},
     "output_type": "execute_result"
    }
   ],
   "source": [
    "fac_input.shape"
   ]
  },
  {
   "cell_type": "markdown",
   "metadata": {},
   "source": [
    "clr"
   ]
  },
  {
   "cell_type": "code",
   "execution_count": 244,
   "metadata": {},
   "outputs": [],
   "source": [
    "clr_data = pd.read_csv('./dataset/clr.csv')\n",
    "if 'Unnamed: 0' in clr_data.columns:\n",
    "    clr_data = clr_data.drop('Unnamed: 0', axis=1)"
   ]
  },
  {
   "cell_type": "code",
   "execution_count": 245,
   "metadata": {},
   "outputs": [],
   "source": [
    "clr_input = np.array( (clr_data - clr_data.mean())/clr_data.std() )"
   ]
  },
  {
   "cell_type": "code",
   "execution_count": 246,
   "metadata": {},
   "outputs": [
    {
     "data": {
      "text/plain": [
       "(1016, 3)"
      ]
     },
     "execution_count": 246,
     "metadata": {},
     "output_type": "execute_result"
    }
   ],
   "source": [
    "clr_input.shape"
   ]
  },
  {
   "cell_type": "markdown",
   "metadata": {},
   "source": [
    "y"
   ]
  },
  {
   "cell_type": "code",
   "execution_count": 247,
   "metadata": {},
   "outputs": [],
   "source": [
    "y_data = pd.read_csv('./dataset/y_label.csv')\n",
    "\n",
    "y_out = np.array(y_data)\n",
    "\n",
    "img_arr = img_arr.astype('float64')"
   ]
  },
  {
   "cell_type": "code",
   "execution_count": 248,
   "metadata": {},
   "outputs": [
    {
     "data": {
      "text/plain": [
       "(1016, 7)"
      ]
     },
     "execution_count": 248,
     "metadata": {},
     "output_type": "execute_result"
    }
   ],
   "source": [
    "y_out.shape"
   ]
  },
  {
   "cell_type": "markdown",
   "metadata": {},
   "source": [
    "-----"
   ]
  },
  {
   "cell_type": "code",
   "execution_count": 249,
   "metadata": {},
   "outputs": [],
   "source": [
    "import sklearn\n",
    "\n",
    "img_arr_s = sklearn.utils.shuffle(img_arr, random_state=1234)\n",
    "fac_input_s = sklearn.utils.shuffle(fac_input, random_state=1234)\n",
    "clr_input_s = sklearn.utils.shuffle(clr_input, random_state=1234)\n",
    "y_out_s = sklearn.utils.shuffle(y_out, random_state=1234)"
   ]
  },
  {
   "cell_type": "code",
   "execution_count": 250,
   "metadata": {},
   "outputs": [],
   "source": [
    "img_arr_test = img_arr_s[900:]\n",
    "fac_inp_test = fac_input_s[900:]\n",
    "clr_inp_test = clr_input_s[900:]\n",
    "y_out_test = y_out_s[900:]\n",
    "\n",
    "img_arr_s = img_arr_s[:900]\n",
    "fac_input_s = fac_input_s[:900]\n",
    "clr_input_s = clr_input_s[:900]\n",
    "y_out_s = y_out_s[:900]"
   ]
  },
  {
   "cell_type": "markdown",
   "metadata": {},
   "source": [
    "---"
   ]
  },
  {
   "cell_type": "code",
   "execution_count": 251,
   "metadata": {},
   "outputs": [],
   "source": [
    "import os\n",
    "from tensorflow.keras import layers\n",
    "from tensorflow.keras import Model\n",
    "from tensorflow.keras.applications.inception_v3 import InceptionV3\n",
    "\n",
    "local_weights_file = './inception_v3_weights_tf_dim_ordering_tf_kernels_notop.h5'\n",
    "\n",
    "pre_trained_model = InceptionV3(input_shape=(150, 150, 3),\n",
    "                              include_top=False,\n",
    "                              weights=None)\n",
    "\n",
    "pre_trained_model.load_weights(local_weights_file)\n",
    "\n",
    "for layer in pre_trained_model.layers:\n",
    "  layer.trainable = False\n",
    "\n",
    "#pre_trained_model.summary()"
   ]
  },
  {
   "cell_type": "code",
   "execution_count": 252,
   "metadata": {},
   "outputs": [
    {
     "name": "stdout",
     "output_type": "stream",
     "text": [
      "last layer output shape:  (None, 7, 7, 768)\n"
     ]
    }
   ],
   "source": [
    "last_layer = pre_trained_model.get_layer('mixed7')\n",
    "print('last layer output shape: ', last_layer.output.shape)\n",
    "last_output = last_layer.output"
   ]
  },
  {
   "cell_type": "code",
   "execution_count": 253,
   "metadata": {},
   "outputs": [],
   "source": [
    "smoothing_param = 0.1\n",
    "NUM_CLASSES = 7\n",
    "import keras.backend as K\n",
    "\n",
    "def smoothed_categorical_crossentropy(y_true, y_pred): \n",
    "    if smoothing_param > 0:\n",
    "        smooth_positives = 1.0 - smoothing_param \n",
    "        smooth_negatives = smoothing_param / NUM_CLASSES \n",
    "        y_true = y_true * smooth_positives + smooth_negatives \n",
    "\n",
    "    return K.categorical_crossentropy(y_true, y_pred)\n",
    "\n",
    "# class LearningRateSchedule(Callback):\n",
    "#     def on_epoch_end(self, epoch, logs=None):\n",
    "#         if (epoch+1)%2 == 0:\n",
    "#             lr = K.get_value(self.model.optimizer.lr)\n",
    "#             K.set_value(self.model.optimizer.lr, lr*0.94)"
   ]
  },
  {
   "cell_type": "code",
   "execution_count": 261,
   "metadata": {},
   "outputs": [],
   "source": [
    "from tensorflow.keras.optimizers import RMSprop\n",
    "from bpmll import bp_mll_loss\n",
    "import tensorflow_addons as tfa\n",
    "\n",
    "x = layers.Flatten()(last_output)\n",
    "x = layers.Dense(1024, activation='relu')(x)\n",
    "x = layers.Dense(7, activation='sigmoid')(x)\n",
    "\n",
    "model = Model(pre_trained_model.input, x)\n",
    "optimizer = tf.keras.optimizers.RMSprop(lr=0.045, epsilon=1.0, decay=0.9)\n",
    "\n",
    "model.compile(optimizer='adam',\n",
    "            loss='binary_crossentropy',\n",
    "            metrics=['Precision', 'Recall', tf.compat.v1.losses.log_loss, 'BinaryAccuracy'])"
   ]
  },
  {
   "cell_type": "code",
   "execution_count": 262,
   "metadata": {},
   "outputs": [],
   "source": [
    "# 성능 기반 스케줄링\n",
    "lr_scheduler = tf.keras.callbacks.ReduceLROnPlateau(factor=0.5, patience=3)"
   ]
  },
  {
   "cell_type": "code",
   "execution_count": 263,
   "metadata": {},
   "outputs": [
    {
     "name": "stdout",
     "output_type": "stream",
     "text": [
      "Epoch 1/100\n",
      "23/23 [==============================] - 8s 193ms/step - loss: 1.0556 - precision: 0.2922 - recall: 0.2216 - log_loss: 0.9635 - binary_accuracy: 0.7516 - val_loss: 0.5361 - val_precision: 0.3270 - val_recall: 0.2105 - val_log_loss: 0.5302 - val_binary_accuracy: 0.7603 - lr: 0.0010\n",
      "Epoch 2/100\n",
      "23/23 [==============================] - 1s 44ms/step - loss: 0.2254 - precision: 0.8358 - recall: 0.6576 - log_loss: 0.2235 - binary_accuracy: 0.9109 - val_loss: 0.5340 - val_precision: 0.3780 - val_recall: 0.1255 - val_log_loss: 0.5293 - val_binary_accuracy: 0.7881 - lr: 0.0010\n",
      "Epoch 3/100\n",
      "23/23 [==============================] - 1s 44ms/step - loss: 0.0853 - precision: 0.9875 - recall: 0.9139 - log_loss: 0.0847 - binary_accuracy: 0.9815 - val_loss: 0.5416 - val_precision: 0.4685 - val_recall: 0.2105 - val_log_loss: 0.5339 - val_binary_accuracy: 0.7984 - lr: 0.0010\n",
      "Epoch 4/100\n",
      "23/23 [==============================] - 2s 85ms/step - loss: 0.0349 - precision: 0.9989 - recall: 0.9926 - log_loss: 0.0349 - binary_accuracy: 0.9984 - val_loss: 0.5831 - val_precision: 0.4884 - val_recall: 0.1700 - val_log_loss: 0.5742 - val_binary_accuracy: 0.8024 - lr: 0.0010\n",
      "Epoch 5/100\n",
      "23/23 [==============================] - 1s 42ms/step - loss: 0.0169 - precision: 1.0000 - recall: 1.0000 - log_loss: 0.0168 - binary_accuracy: 1.0000 - val_loss: 0.6150 - val_precision: 0.5176 - val_recall: 0.1781 - val_log_loss: 0.6067 - val_binary_accuracy: 0.8063 - lr: 0.0010\n",
      "Epoch 6/100\n",
      "23/23 [==============================] - 7s 309ms/step - loss: 0.0104 - precision: 1.0000 - recall: 1.0000 - log_loss: 0.0104 - binary_accuracy: 1.0000 - val_loss: 0.6722 - val_precision: 0.5000 - val_recall: 0.1255 - val_log_loss: 0.6646 - val_binary_accuracy: 0.8040 - lr: 5.0000e-04\n",
      "Epoch 7/100\n",
      "23/23 [==============================] - 7s 335ms/step - loss: 0.0080 - precision: 1.0000 - recall: 1.0000 - log_loss: 0.0080 - binary_accuracy: 1.0000 - val_loss: 0.6772 - val_precision: 0.4930 - val_recall: 0.1417 - val_log_loss: 0.6684 - val_binary_accuracy: 0.8032 - lr: 5.0000e-04\n",
      "Epoch 8/100\n",
      "23/23 [==============================] - 2s 95ms/step - loss: 0.0066 - precision: 1.0000 - recall: 1.0000 - log_loss: 0.0065 - binary_accuracy: 1.0000 - val_loss: 0.6923 - val_precision: 0.4776 - val_recall: 0.1296 - val_log_loss: 0.6834 - val_binary_accuracy: 0.8016 - lr: 5.0000e-04\n",
      "Epoch 9/100\n",
      "23/23 [==============================] - 1s 42ms/step - loss: 0.0055 - precision: 1.0000 - recall: 1.0000 - log_loss: 0.0055 - binary_accuracy: 1.0000 - val_loss: 0.7010 - val_precision: 0.4776 - val_recall: 0.1296 - val_log_loss: 0.6919 - val_binary_accuracy: 0.8016 - lr: 2.5000e-04\n",
      "Epoch 10/100\n",
      "23/23 [==============================] - 2s 74ms/step - loss: 0.0050 - precision: 1.0000 - recall: 1.0000 - log_loss: 0.0050 - binary_accuracy: 1.0000 - val_loss: 0.7101 - val_precision: 0.4853 - val_recall: 0.1336 - val_log_loss: 0.7010 - val_binary_accuracy: 0.8024 - lr: 2.5000e-04\n",
      "Epoch 11/100\n",
      "23/23 [==============================] - 1s 62ms/step - loss: 0.0045 - precision: 1.0000 - recall: 1.0000 - log_loss: 0.0045 - binary_accuracy: 1.0000 - val_loss: 0.7129 - val_precision: 0.4857 - val_recall: 0.1377 - val_log_loss: 0.7036 - val_binary_accuracy: 0.8024 - lr: 2.5000e-04\n",
      "Epoch 12/100\n",
      "23/23 [==============================] - 1s 42ms/step - loss: 0.0041 - precision: 1.0000 - recall: 1.0000 - log_loss: 0.0041 - binary_accuracy: 1.0000 - val_loss: 0.7215 - val_precision: 0.4928 - val_recall: 0.1377 - val_log_loss: 0.7119 - val_binary_accuracy: 0.8032 - lr: 1.2500e-04\n"
     ]
    }
   ],
   "source": [
    "with tf.device(\"/device:GPU:0\"):\n",
    "    history = model.fit(\n",
    "        img_arr_s, y_out_s, \n",
    "        batch_size=32, \n",
    "        epochs=100, \n",
    "        validation_split=0.2, \n",
    "        callbacks=[lr_scheduler, tf.keras.callbacks.EarlyStopping(patience=10)]\n",
    "    )"
   ]
  },
  {
   "cell_type": "code",
   "execution_count": 265,
   "metadata": {},
   "outputs": [
    {
     "data": {
      "image/png": "[encoded data removed]",
      "text/plain": [
       "<Figure size 576x576 with 2 Axes>"
      ]
     },
     "metadata": {
      "needs_background": "light"
     },
     "output_type": "display_data"
    }
   ],
   "source": [
    "import matplotlib.pyplot as plt\n",
    "\n",
    "acc = history.history['recall']\n",
    "val_acc = history.history['val_recall']\n",
    "\n",
    "loss = history.history['precision']\n",
    "val_loss = history.history['val_precision']\n",
    "\n",
    "epochs_range = range(12)\n",
    "\n",
    "plt.figure(figsize=(8, 8))\n",
    "plt.subplot(1, 2, 1)\n",
    "plt.plot(epochs_range, acc, label='Training Precision')\n",
    "plt.plot(epochs_range, val_acc, label='Validation Precision')\n",
    "plt.legend(loc='lower right')\n",
    "plt.title('Training and Validation Precision')\n",
    "\n",
    "plt.subplot(1, 2, 2)\n",
    "plt.plot(epochs_range, loss, label='Training Loss')\n",
    "plt.plot(epochs_range, val_loss, label='Validation Loss')\n",
    "plt.legend(loc='upper right')\n",
    "plt.title('Training and Validation Loss')\n",
    "plt.show()"
   ]
  },
  {
   "cell_type": "code",
   "execution_count": 266,
   "metadata": {},
   "outputs": [],
   "source": [
    "#model.save('./saved_model/Inception_IMG_binarycross.h5')"
   ]
  },
  {
   "cell_type": "code",
   "execution_count": 267,
   "metadata": {},
   "outputs": [
    {
     "name": "stdout",
     "output_type": "stream",
     "text": [
      "4/4 [==============================] - 0s 29ms/step - loss: 0.7699 - precision: 0.5625 - recall: 0.1720 - log_loss: 0.7599 - binary_accuracy: 0.8140\n"
     ]
    },
    {
     "data": {
      "text/plain": [
       "[0.7698696851730347,\n",
       " 0.5625,\n",
       " 0.1719745248556137,\n",
       " 0.7599348425865173,\n",
       " 0.814039409160614]"
      ]
     },
     "execution_count": 267,
     "metadata": {},
     "output_type": "execute_result"
    }
   ],
   "source": [
    "model.evaluate(img_arr_test,y_out_test)"
   ]
  },
  {
   "cell_type": "code",
   "execution_count": 268,
   "metadata": {},
   "outputs": [
    {
     "data": {
      "text/plain": [
       "0.2488888888888889"
      ]
     },
     "execution_count": 268,
     "metadata": {},
     "output_type": "execute_result"
    }
   ],
   "source": [
    "2/(1/0.56 + 1/0.16)"
   ]
  },
  {
   "cell_type": "code",
   "execution_count": 269,
   "metadata": {},
   "outputs": [],
   "source": [
    "k = model.predict(img_arr_test)"
   ]
  },
  {
   "cell_type": "code",
   "execution_count": 270,
   "metadata": {},
   "outputs": [
    {
     "data": {
      "text/plain": [
       "array([3.4950575e-04, 1.8278152e-02, 6.1214399e-05, 5.8490771e-04,\n",
       "       3.6146555e-02, 4.6253419e-05, 9.9229038e-02], dtype=float32)"
      ]
     },
     "execution_count": 270,
     "metadata": {},
     "output_type": "execute_result"
    }
   ],
   "source": [
    "k[105]"
   ]
  },
  {
   "cell_type": "code",
   "execution_count": 271,
   "metadata": {},
   "outputs": [
    {
     "data": {
      "text/plain": [
       "array([0., 0., 1., 0., 0., 0., 0.])"
      ]
     },
     "execution_count": 271,
     "metadata": {},
     "output_type": "execute_result"
    }
   ],
   "source": [
    "y_out_test[105]"
   ]
  },
  {
   "cell_type": "markdown",
   "metadata": {},
   "source": [
    "-----"
   ]
  },
  {
   "cell_type": "code",
   "execution_count": null,
   "metadata": {},
   "outputs": [],
   "source": []
  },
  {
   "cell_type": "code",
   "execution_count": null,
   "metadata": {},
   "outputs": [],
   "source": []
  },
  {
   "cell_type": "code",
   "execution_count": 272,
   "metadata": {},
   "outputs": [],
   "source": [
    "local_weights_file = './inception_v3_weights_tf_dim_ordering_tf_kernels_notop.h5'\n",
    "\n",
    "pre_trained_model = InceptionV3(input_shape=(150, 150, 3),\n",
    "                              include_top=False,\n",
    "                              weights=None)\n",
    "\n",
    "pre_trained_model.load_weights(local_weights_file)\n",
    "\n",
    "for layer in pre_trained_model.layers:\n",
    "  layer.trainable = False"
   ]
  },
  {
   "cell_type": "code",
   "execution_count": 273,
   "metadata": {},
   "outputs": [
    {
     "name": "stdout",
     "output_type": "stream",
     "text": [
      "last layer output shape:  (None, 7, 7, 768)\n"
     ]
    }
   ],
   "source": [
    "last_layer = pre_trained_model.get_layer('mixed7')\n",
    "print('last layer output shape: ', last_layer.output.shape)\n",
    "last_output = last_layer.output"
   ]
  },
  {
   "cell_type": "code",
   "execution_count": 274,
   "metadata": {},
   "outputs": [],
   "source": [
    "from tensorflow.keras.optimizers import RMSprop\n",
    "from bpmll import bp_mll_loss\n",
    "import tensorflow_addons as tfa\n",
    "\n",
    "x = layers.Flatten()(last_output)\n",
    "real_face_input = tf.keras.layers.Input(shape=(16,))\n",
    "real_clr_input = tf.keras.layers.Input(shape=(3,))\n",
    "\n",
    "concat = layers.Concatenate(axis=-1)([x, real_face_input, real_clr_input])\n",
    "\n",
    "last = layers.Dense(1024, activation='relu')(concat)\n",
    "last = layers.Dense(7, activation='sigmoid')(last)\n",
    "\n",
    "model = Model([pre_trained_model.input,real_face_input,real_clr_input], last)\n",
    "optimizer = tf.keras.optimizers.RMSprop(lr=0.045, epsilon=1.0, decay=0.9)\n",
    "\n",
    "model.compile(optimizer='adagrad',\n",
    "            loss='binary_crossentropy',\n",
    "            metrics=['Precision', 'Recall'])"
   ]
  },
  {
   "cell_type": "code",
   "execution_count": 275,
   "metadata": {},
   "outputs": [
    {
     "name": "stdout",
     "output_type": "stream",
     "text": [
      "Epoch 1/100\n",
      "23/23 [==============================] - 15s 542ms/step - loss: 0.5211 - precision: 0.2760 - recall: 0.0809 - val_loss: 0.4724 - val_precision: 0.7500 - val_recall: 0.0121 - lr: 0.0010\n",
      "Epoch 2/100\n",
      "23/23 [==============================] - 7s 337ms/step - loss: 0.4597 - precision: 0.3333 - recall: 0.0042 - val_loss: 0.4637 - val_precision: 0.7500 - val_recall: 0.0121 - lr: 0.0010\n",
      "Epoch 3/100\n",
      "23/23 [==============================] - 9s 404ms/step - loss: 0.4490 - precision: 0.5000 - recall: 0.0053 - val_loss: 0.4610 - val_precision: 1.0000 - val_recall: 0.0121 - lr: 0.0010\n",
      "Epoch 4/100\n",
      "23/23 [==============================] - 1s 62ms/step - loss: 0.4416 - precision: 0.6111 - recall: 0.0116 - val_loss: 0.4590 - val_precision: 1.0000 - val_recall: 0.0162 - lr: 0.0010\n",
      "Epoch 5/100\n",
      "23/23 [==============================] - 1s 66ms/step - loss: 0.4348 - precision: 0.6818 - recall: 0.0158 - val_loss: 0.4578 - val_precision: 1.0000 - val_recall: 0.0121 - lr: 0.0010\n",
      "Epoch 6/100\n",
      "23/23 [==============================] - 1s 43ms/step - loss: 0.4282 - precision: 0.6522 - recall: 0.0158 - val_loss: 0.4576 - val_precision: 1.0000 - val_recall: 0.0121 - lr: 0.0010\n",
      "Epoch 7/100\n",
      "23/23 [==============================] - 1s 41ms/step - loss: 0.4221 - precision: 0.7500 - recall: 0.0189 - val_loss: 0.4556 - val_precision: 0.8000 - val_recall: 0.0162 - lr: 0.0010\n",
      "Epoch 8/100\n",
      "23/23 [==============================] - 1s 41ms/step - loss: 0.4161 - precision: 0.8077 - recall: 0.0221 - val_loss: 0.4544 - val_precision: 0.7500 - val_recall: 0.0243 - lr: 0.0010\n",
      "Epoch 9/100\n",
      "23/23 [==============================] - 1s 41ms/step - loss: 0.4103 - precision: 0.8667 - recall: 0.0410 - val_loss: 0.4552 - val_precision: 0.6429 - val_recall: 0.0364 - lr: 0.0010\n",
      "Epoch 10/100\n",
      "23/23 [==============================] - 1s 41ms/step - loss: 0.4046 - precision: 0.8600 - recall: 0.0452 - val_loss: 0.4543 - val_precision: 0.7778 - val_recall: 0.0283 - lr: 0.0010\n",
      "Epoch 11/100\n",
      "23/23 [==============================] - 1s 44ms/step - loss: 0.3995 - precision: 0.8750 - recall: 0.0515 - val_loss: 0.4529 - val_precision: 0.6923 - val_recall: 0.0364 - lr: 0.0010\n",
      "Epoch 12/100\n",
      "23/23 [==============================] - 1s 44ms/step - loss: 0.3940 - precision: 0.8966 - recall: 0.0546 - val_loss: 0.4523 - val_precision: 0.5882 - val_recall: 0.0405 - lr: 0.0010\n",
      "Epoch 13/100\n",
      "23/23 [==============================] - 1s 43ms/step - loss: 0.3889 - precision: 0.8953 - recall: 0.0809 - val_loss: 0.4506 - val_precision: 0.7143 - val_recall: 0.0405 - lr: 0.0010\n",
      "Epoch 14/100\n",
      "23/23 [==============================] - 1s 42ms/step - loss: 0.3841 - precision: 0.9036 - recall: 0.0788 - val_loss: 0.4510 - val_precision: 0.5882 - val_recall: 0.0405 - lr: 0.0010\n",
      "Epoch 15/100\n",
      "23/23 [==============================] - 1s 41ms/step - loss: 0.3794 - precision: 0.9032 - recall: 0.0882 - val_loss: 0.4510 - val_precision: 0.5882 - val_recall: 0.0405 - lr: 0.0010\n",
      "Epoch 16/100\n",
      "23/23 [==============================] - 1s 43ms/step - loss: 0.3745 - precision: 0.9278 - recall: 0.0945 - val_loss: 0.4495 - val_precision: 0.6000 - val_recall: 0.0486 - lr: 0.0010\n",
      "Epoch 17/100\n",
      "23/23 [==============================] - 1s 42ms/step - loss: 0.3698 - precision: 0.9065 - recall: 0.1019 - val_loss: 0.4490 - val_precision: 0.6087 - val_recall: 0.0567 - lr: 0.0010\n",
      "Epoch 18/100\n",
      "23/23 [==============================] - 1s 43ms/step - loss: 0.3656 - precision: 0.9167 - recall: 0.1155 - val_loss: 0.4490 - val_precision: 0.6000 - val_recall: 0.0486 - lr: 0.0010\n",
      "Epoch 19/100\n",
      "23/23 [==============================] - 1s 46ms/step - loss: 0.3614 - precision: 0.9431 - recall: 0.1218 - val_loss: 0.4480 - val_precision: 0.5926 - val_recall: 0.0648 - lr: 0.0010\n",
      "Epoch 20/100\n",
      "23/23 [==============================] - 1s 42ms/step - loss: 0.3570 - precision: 0.9343 - recall: 0.1345 - val_loss: 0.4464 - val_precision: 0.5600 - val_recall: 0.0567 - lr: 0.0010\n",
      "Epoch 21/100\n",
      "23/23 [==============================] - 1s 42ms/step - loss: 0.3528 - precision: 0.9467 - recall: 0.1492 - val_loss: 0.4475 - val_precision: 0.5714 - val_recall: 0.0648 - lr: 0.0010\n",
      "Epoch 22/100\n",
      "23/23 [==============================] - 1s 41ms/step - loss: 0.3487 - precision: 0.9415 - recall: 0.1691 - val_loss: 0.4474 - val_precision: 0.5714 - val_recall: 0.0648 - lr: 0.0010\n",
      "Epoch 23/100\n",
      "23/23 [==============================] - 4s 192ms/step - loss: 0.3444 - precision: 0.9495 - recall: 0.1975 - val_loss: 0.4469 - val_precision: 0.6087 - val_recall: 0.0567 - lr: 0.0010\n",
      "Epoch 24/100\n",
      "23/23 [==============================] - 2s 65ms/step - loss: 0.3404 - precision: 0.9532 - recall: 0.1712 - val_loss: 0.4460 - val_precision: 0.5556 - val_recall: 0.0607 - lr: 5.0000e-04\n",
      "Epoch 25/100\n",
      "23/23 [==============================] - 1s 42ms/step - loss: 0.3382 - precision: 0.9637 - recall: 0.1954 - val_loss: 0.4456 - val_precision: 0.5357 - val_recall: 0.0607 - lr: 5.0000e-04\n",
      "Epoch 26/100\n",
      "23/23 [==============================] - 1s 42ms/step - loss: 0.3364 - precision: 0.9621 - recall: 0.2132 - val_loss: 0.4465 - val_precision: 0.5862 - val_recall: 0.0688 - lr: 5.0000e-04\n",
      "Epoch 27/100\n",
      "23/23 [==============================] - 1s 41ms/step - loss: 0.3345 - precision: 0.9600 - recall: 0.2017 - val_loss: 0.4452 - val_precision: 0.5667 - val_recall: 0.0688 - lr: 5.0000e-04\n",
      "Epoch 28/100\n",
      "23/23 [==============================] - 1s 42ms/step - loss: 0.3327 - precision: 0.9633 - recall: 0.2206 - val_loss: 0.4451 - val_precision: 0.5667 - val_recall: 0.0688 - lr: 5.0000e-04\n",
      "Epoch 29/100\n",
      "23/23 [==============================] - 1s 42ms/step - loss: 0.3307 - precision: 0.9626 - recall: 0.2164 - val_loss: 0.4449 - val_precision: 0.5758 - val_recall: 0.0769 - lr: 5.0000e-04\n",
      "Epoch 30/100\n",
      "23/23 [==============================] - 1s 42ms/step - loss: 0.3289 - precision: 0.9694 - recall: 0.2332 - val_loss: 0.4453 - val_precision: 0.5758 - val_recall: 0.0769 - lr: 5.0000e-04\n",
      "Epoch 31/100\n",
      "23/23 [==============================] - 1s 41ms/step - loss: 0.3269 - precision: 0.9612 - recall: 0.2342 - val_loss: 0.4447 - val_precision: 0.5758 - val_recall: 0.0769 - lr: 5.0000e-04\n",
      "Epoch 32/100\n",
      "23/23 [==============================] - 1s 43ms/step - loss: 0.3252 - precision: 0.9630 - recall: 0.2458 - val_loss: 0.4455 - val_precision: 0.5758 - val_recall: 0.0769 - lr: 5.0000e-04\n",
      "Epoch 33/100\n",
      "23/23 [==============================] - 1s 40ms/step - loss: 0.3234 - precision: 0.9649 - recall: 0.2311 - val_loss: 0.4445 - val_precision: 0.5588 - val_recall: 0.0769 - lr: 5.0000e-04\n",
      "Epoch 34/100\n",
      "23/23 [==============================] - 1s 41ms/step - loss: 0.3215 - precision: 0.9615 - recall: 0.2626 - val_loss: 0.4439 - val_precision: 0.5882 - val_recall: 0.0810 - lr: 5.0000e-04\n",
      "Epoch 35/100\n",
      "23/23 [==============================] - 1s 41ms/step - loss: 0.3198 - precision: 0.9676 - recall: 0.2511 - val_loss: 0.4443 - val_precision: 0.5758 - val_recall: 0.0769 - lr: 5.0000e-04\n",
      "Epoch 36/100\n",
      "23/23 [==============================] - 1s 43ms/step - loss: 0.3180 - precision: 0.9624 - recall: 0.2689 - val_loss: 0.4446 - val_precision: 0.5714 - val_recall: 0.0810 - lr: 5.0000e-04\n",
      "Epoch 37/100\n",
      "23/23 [==============================] - 1s 42ms/step - loss: 0.3163 - precision: 0.9627 - recall: 0.2710 - val_loss: 0.4437 - val_precision: 0.5714 - val_recall: 0.0810 - lr: 5.0000e-04\n",
      "Epoch 38/100\n",
      "23/23 [==============================] - 1s 59ms/step - loss: 0.3146 - precision: 0.9669 - recall: 0.2763 - val_loss: 0.4437 - val_precision: 0.5714 - val_recall: 0.0810 - lr: 5.0000e-04\n",
      "Epoch 39/100\n",
      "23/23 [==============================] - 1s 41ms/step - loss: 0.3128 - precision: 0.9706 - recall: 0.2773 - val_loss: 0.4436 - val_precision: 0.5556 - val_recall: 0.0810 - lr: 5.0000e-04\n",
      "Epoch 40/100\n",
      "23/23 [==============================] - 1s 41ms/step - loss: 0.3112 - precision: 0.9721 - recall: 0.2931 - val_loss: 0.4446 - val_precision: 0.5714 - val_recall: 0.0810 - lr: 5.0000e-04\n",
      "Epoch 41/100\n",
      "23/23 [==============================] - 1s 42ms/step - loss: 0.3096 - precision: 0.9682 - recall: 0.2878 - val_loss: 0.4443 - val_precision: 0.5588 - val_recall: 0.0769 - lr: 5.0000e-04\n",
      "Epoch 42/100\n",
      "23/23 [==============================] - 1s 42ms/step - loss: 0.3078 - precision: 0.9716 - recall: 0.2878 - val_loss: 0.4430 - val_precision: 0.5676 - val_recall: 0.0850 - lr: 5.0000e-04\n",
      "Epoch 43/100\n",
      "23/23 [==============================] - 1s 43ms/step - loss: 0.3062 - precision: 0.9791 - recall: 0.2952 - val_loss: 0.4433 - val_precision: 0.5556 - val_recall: 0.0810 - lr: 5.0000e-04\n",
      "Epoch 44/100\n",
      "23/23 [==============================] - 1s 41ms/step - loss: 0.3045 - precision: 0.9733 - recall: 0.3067 - val_loss: 0.4440 - val_precision: 0.5556 - val_recall: 0.0810 - lr: 5.0000e-04\n",
      "Epoch 45/100\n",
      "23/23 [==============================] - 1s 41ms/step - loss: 0.3030 - precision: 0.9700 - recall: 0.3057 - val_loss: 0.4437 - val_precision: 0.5405 - val_recall: 0.0810 - lr: 5.0000e-04\n",
      "Epoch 46/100\n",
      "23/23 [==============================] - 1s 42ms/step - loss: 0.3010 - precision: 0.9737 - recall: 0.3109 - val_loss: 0.4435 - val_precision: 0.5405 - val_recall: 0.0810 - lr: 2.5000e-04\n",
      "Epoch 47/100\n",
      "23/23 [==============================] - 1s 43ms/step - loss: 0.3002 - precision: 0.9713 - recall: 0.3204 - val_loss: 0.4433 - val_precision: 0.5526 - val_recall: 0.0850 - lr: 2.5000e-04\n",
      "Epoch 48/100\n",
      "23/23 [==============================] - 1s 41ms/step - loss: 0.2994 - precision: 0.9746 - recall: 0.3225 - val_loss: 0.4433 - val_precision: 0.5405 - val_recall: 0.0810 - lr: 2.5000e-04\n",
      "Epoch 49/100\n",
      "23/23 [==============================] - 1s 41ms/step - loss: 0.2985 - precision: 0.9748 - recall: 0.3246 - val_loss: 0.4432 - val_precision: 0.5526 - val_recall: 0.0850 - lr: 1.2500e-04\n",
      "Epoch 50/100\n",
      "23/23 [==============================] - 1s 54ms/step - loss: 0.2981 - precision: 0.9750 - recall: 0.3277 - val_loss: 0.4433 - val_precision: 0.5526 - val_recall: 0.0850 - lr: 1.2500e-04\n",
      "Epoch 51/100\n",
      "23/23 [==============================] - 1s 41ms/step - loss: 0.2977 - precision: 0.9751 - recall: 0.3288 - val_loss: 0.4432 - val_precision: 0.5526 - val_recall: 0.0850 - lr: 1.2500e-04\n",
      "Epoch 52/100\n",
      "23/23 [==============================] - 1s 43ms/step - loss: 0.2972 - precision: 0.9751 - recall: 0.3288 - val_loss: 0.4432 - val_precision: 0.5526 - val_recall: 0.0850 - lr: 6.2500e-05\n"
     ]
    }
   ],
   "source": [
    "with tf.device(\"/device:GPU:0\"):\n",
    "    history = model.fit(\n",
    "        [img_arr_s,fac_input_s,clr_input_s], \n",
    "        y_out_s, \n",
    "        batch_size=32, \n",
    "        epochs=100, \n",
    "        validation_split=0.2, \n",
    "        callbacks=[lr_scheduler, tf.keras.callbacks.EarlyStopping(patience=10)]\n",
    "    )"
   ]
  },
  {
   "cell_type": "code",
   "execution_count": 276,
   "metadata": {},
   "outputs": [
    {
     "data": {
      "image/png": "[encoded data removed]",
      "text/plain": [
       "<Figure size 576x576 with 2 Axes>"
      ]
     },
     "metadata": {
      "needs_background": "light"
     },
     "output_type": "display_data"
    }
   ],
   "source": [
    "import matplotlib.pyplot as plt\n",
    "\n",
    "acc = history.history['precision']\n",
    "val_acc = history.history['val_precision']\n",
    "\n",
    "loss = history.history['loss']\n",
    "val_loss = history.history['val_loss']\n",
    "\n",
    "epochs_range = range(52)\n",
    "\n",
    "plt.figure(figsize=(8, 8))\n",
    "plt.subplot(1, 2, 1)\n",
    "plt.plot(epochs_range, acc, label='Training Precision')\n",
    "plt.plot(epochs_range, val_acc, label='Validation Precision')\n",
    "plt.legend(loc='lower right')\n",
    "plt.title('Training and Validation Precision')\n",
    "\n",
    "plt.subplot(1, 2, 2)\n",
    "plt.plot(epochs_range, loss, label='Training Loss')\n",
    "plt.plot(epochs_range, val_loss, label='Validation Loss')\n",
    "plt.legend(loc='upper right')\n",
    "plt.title('Training and Validation Loss')\n",
    "plt.show()"
   ]
  },
  {
   "cell_type": "code",
   "execution_count": 229,
   "metadata": {},
   "outputs": [
    {
     "name": "stdout",
     "output_type": "stream",
     "text": [
      "4/4 [==============================] - 0s 27ms/step - loss: 0.4604 - precision: 0.7500 - recall: 0.0573\n"
     ]
    },
    {
     "data": {
      "text/plain": [
       "[0.46039244532585144, 0.75, 0.0573248416185379]"
      ]
     },
     "execution_count": 229,
     "metadata": {},
     "output_type": "execute_result"
    }
   ],
   "source": [
    "model.evaluate([img_arr_test,fac_inp_test,clr_inp_test],y_out_test)"
   ]
  },
  {
   "cell_type": "code",
   "execution_count": 233,
   "metadata": {},
   "outputs": [
    {
     "data": {
      "text/plain": [
       "0.1111111111111111"
      ]
     },
     "execution_count": 233,
     "metadata": {},
     "output_type": "execute_result"
    }
   ],
   "source": [
    "2 / (1/0.75 + 1/0.06) "
   ]
  },
  {
   "cell_type": "code",
   "execution_count": null,
   "metadata": {},
   "outputs": [],
   "source": []
  },
  {
   "cell_type": "code",
   "execution_count": 230,
   "metadata": {},
   "outputs": [
    {
     "data": {
      "text/plain": [
       "array([[0.17659947, 0.09730708, 0.30722386, 0.3563398 , 0.14106718,\n",
       "        0.22376746, 0.18755396],\n",
       "       [0.06555873, 0.09756739, 0.56000096, 0.08973885, 0.20733723,\n",
       "        0.33750057, 0.1033695 ],\n",
       "       [0.07863435, 0.17941667, 0.35013336, 0.07753299, 0.31311125,\n",
       "        0.17463115, 0.15693344],\n",
       "       [0.03382535, 0.04548953, 0.36682236, 0.08912361, 0.17449032,\n",
       "        0.30879506, 0.13697511],\n",
       "       [0.04895272, 0.1759019 , 0.30524987, 0.04928142, 0.14334144,\n",
       "        0.25829008, 0.2198094 ],\n",
       "       [0.14343023, 0.11015575, 0.16015999, 0.09845824, 0.37147215,\n",
       "        0.3374419 , 0.19620843],\n",
       "       [0.12224775, 0.12592155, 0.28766352, 0.19609627, 0.2820752 ,\n",
       "        0.2572726 , 0.22129135],\n",
       "       [0.08286639, 0.10094949, 0.14308128, 0.05630606, 0.22546479,\n",
       "        0.31991762, 0.26930344],\n",
       "       [0.04897437, 0.08030049, 0.34341118, 0.20074742, 0.23323022,\n",
       "        0.18412344, 0.17358637],\n",
       "       [0.12877257, 0.10122784, 0.2726769 , 0.1773076 , 0.19021313,\n",
       "        0.35123655, 0.1189762 ],\n",
       "       [0.115198  , 0.10591566, 0.14353968, 0.11434728, 0.34252515,\n",
       "        0.20113406, 0.1495781 ],\n",
       "       [0.02188399, 0.06702372, 0.4583027 , 0.02937169, 0.25758097,\n",
       "        0.36763725, 0.12742464],\n",
       "       [0.17858289, 0.09855691, 0.1581447 , 0.1697278 , 0.14451563,\n",
       "        0.21290101, 0.29282382],\n",
       "       [0.03606167, 0.1543586 , 0.18573052, 0.10094867, 0.24546008,\n",
       "        0.23755783, 0.14483209],\n",
       "       [0.08598755, 0.10006334, 0.32460156, 0.16684951, 0.10081606,\n",
       "        0.12597732, 0.212296  ],\n",
       "       [0.08327272, 0.0786419 , 0.18984185, 0.0709834 , 0.23928428,\n",
       "        0.34035495, 0.19650702],\n",
       "       [0.08415508, 0.13233241, 0.23901522, 0.08651261, 0.11820014,\n",
       "        0.28338206, 0.15125032],\n",
       "       [0.14999132, 0.05074376, 0.23017839, 0.16177772, 0.24879166,\n",
       "        0.42502052, 0.30308434],\n",
       "       [0.04668951, 0.10791745, 0.3725159 , 0.06721777, 0.34553322,\n",
       "        0.18045045, 0.07385521],\n",
       "       [0.04928937, 0.03800101, 0.529306  , 0.04361206, 0.18903215,\n",
       "        0.3322435 , 0.10020491],\n",
       "       [0.06303861, 0.06416895, 0.4494231 , 0.1372562 , 0.14129548,\n",
       "        0.17073151, 0.23829615],\n",
       "       [0.03575465, 0.04527617, 0.31577277, 0.15578078, 0.14132914,\n",
       "        0.26229054, 0.10095583],\n",
       "       [0.04552364, 0.10551886, 0.37843964, 0.03392367, 0.1752889 ,\n",
       "        0.40897566, 0.2837243 ],\n",
       "       [0.15151817, 0.11338494, 0.23435317, 0.09838445, 0.09417506,\n",
       "        0.14740789, 0.25680032],\n",
       "       [0.04010424, 0.08405871, 0.42282006, 0.08009227, 0.20683208,\n",
       "        0.25541666, 0.16845769],\n",
       "       [0.09576271, 0.09400783, 0.3158419 , 0.17443307, 0.30276558,\n",
       "        0.27221155, 0.15982333],\n",
       "       [0.03778609, 0.08117066, 0.3808988 , 0.16106813, 0.261082  ,\n",
       "        0.13765664, 0.09846139],\n",
       "       [0.0468799 , 0.04969798, 0.6123883 , 0.06643617, 0.2998717 ,\n",
       "        0.273774  , 0.12230536],\n",
       "       [0.16183832, 0.1607822 , 0.2513396 , 0.24844646, 0.2364311 ,\n",
       "        0.2999758 , 0.15305755],\n",
       "       [0.19911611, 0.09615278, 0.28461313, 0.2326057 , 0.16339724,\n",
       "        0.30372262, 0.21811679],\n",
       "       [0.04800625, 0.04252295, 0.38593063, 0.13340653, 0.10878587,\n",
       "        0.19955996, 0.16386278],\n",
       "       [0.14791426, 0.0951523 , 0.35062167, 0.15931639, 0.06263716,\n",
       "        0.22772513, 0.20029256],\n",
       "       [0.0769747 , 0.12197009, 0.2967633 , 0.04012147, 0.1685714 ,\n",
       "        0.365341  , 0.520279  ],\n",
       "       [0.0846441 , 0.07271901, 0.25258565, 0.14804943, 0.19666436,\n",
       "        0.17804812, 0.21791676],\n",
       "       [0.03370472, 0.09416042, 0.5152429 , 0.08168712, 0.20942129,\n",
       "        0.28920767, 0.1404177 ],\n",
       "       [0.05644782, 0.09100718, 0.34696168, 0.07812489, 0.29624653,\n",
       "        0.19757377, 0.16714701],\n",
       "       [0.11774153, 0.12374905, 0.30318534, 0.14805885, 0.11450429,\n",
       "        0.13266397, 0.1787193 ],\n",
       "       [0.09868141, 0.06585438, 0.39099154, 0.14084733, 0.16317625,\n",
       "        0.4015824 , 0.25519162],\n",
       "       [0.06545666, 0.05217289, 0.52003807, 0.1761069 , 0.11811209,\n",
       "        0.13255893, 0.10783501],\n",
       "       [0.17616218, 0.20676345, 0.34899086, 0.12556784, 0.14553808,\n",
       "        0.26978368, 0.15609707],\n",
       "       [0.02412187, 0.10185636, 0.42455763, 0.0258294 , 0.36149347,\n",
       "        0.26005387, 0.08882145],\n",
       "       [0.07257804, 0.11376517, 0.17698333, 0.1425855 , 0.1136652 ,\n",
       "        0.13180803, 0.0823503 ],\n",
       "       [0.03759039, 0.05375753, 0.41893548, 0.10153327, 0.13363016,\n",
       "        0.40252724, 0.24284245],\n",
       "       [0.09636795, 0.07531214, 0.34729254, 0.11701854, 0.11961645,\n",
       "        0.2702896 , 0.3569354 ],\n",
       "       [0.04596202, 0.15926576, 0.31458   , 0.07372375, 0.23598224,\n",
       "        0.16600841, 0.20154814],\n",
       "       [0.04516379, 0.16176398, 0.33328107, 0.06453329, 0.20656334,\n",
       "        0.33405173, 0.30761805],\n",
       "       [0.03385425, 0.15387434, 0.12369365, 0.11789388, 0.28220266,\n",
       "        0.30374542, 0.10521936],\n",
       "       [0.04081361, 0.09173624, 0.3505752 , 0.05329042, 0.3711338 ,\n",
       "        0.18862106, 0.04079401],\n",
       "       [0.10501222, 0.25968492, 0.21503954, 0.11046583, 0.12463055,\n",
       "        0.11700196, 0.13722071],\n",
       "       [0.06685903, 0.11953506, 0.1664616 , 0.10853846, 0.26804265,\n",
       "        0.19366665, 0.2705779 ],\n",
       "       [0.11776465, 0.06161566, 0.20725304, 0.22635487, 0.14373228,\n",
       "        0.23825969, 0.18569921],\n",
       "       [0.09012116, 0.07548626, 0.3969322 , 0.09194326, 0.1436997 ,\n",
       "        0.46750632, 0.16838455],\n",
       "       [0.04858497, 0.1198905 , 0.2623229 , 0.10068866, 0.368721  ,\n",
       "        0.16498037, 0.12737708],\n",
       "       [0.04491694, 0.07857352, 0.20279165, 0.1269427 , 0.15583731,\n",
       "        0.20405829, 0.11555173],\n",
       "       [0.10010087, 0.0846538 , 0.1624163 , 0.31643376, 0.16772568,\n",
       "        0.22323705, 0.22700362],\n",
       "       [0.06396034, 0.10895337, 0.27514753, 0.0829846 , 0.16525549,\n",
       "        0.3798783 , 0.31158957],\n",
       "       [0.04307635, 0.05788926, 0.56573427, 0.05453945, 0.22098728,\n",
       "        0.1631423 , 0.05635545],\n",
       "       [0.0861965 , 0.08145884, 0.22361559, 0.09190171, 0.17133683,\n",
       "        0.24509409, 0.14280407],\n",
       "       [0.13410386, 0.16167228, 0.35504493, 0.10360094, 0.19951434,\n",
       "        0.26332024, 0.32568932],\n",
       "       [0.03801687, 0.15280306, 0.07720027, 0.10458507, 0.55957943,\n",
       "        0.26058137, 0.1143894 ],\n",
       "       [0.06620452, 0.044839  , 0.32283214, 0.19112152, 0.2953909 ,\n",
       "        0.343366  , 0.20682317],\n",
       "       [0.1850884 , 0.11298621, 0.27576324, 0.13834077, 0.08654826,\n",
       "        0.26395267, 0.23529066],\n",
       "       [0.07079404, 0.04478832, 0.26454863, 0.10329679, 0.1670254 ,\n",
       "        0.16274029, 0.14194582],\n",
       "       [0.06166832, 0.05266385, 0.40021503, 0.05030796, 0.21998619,\n",
       "        0.3870684 , 0.28801116],\n",
       "       [0.05064438, 0.09560324, 0.25179464, 0.2486674 , 0.11309212,\n",
       "        0.35733318, 0.11746884],\n",
       "       [0.04287468, 0.07906434, 0.34782046, 0.05404074, 0.2649591 ,\n",
       "        0.15751441, 0.11507913],\n",
       "       [0.03820591, 0.14063518, 0.3662174 , 0.08566508, 0.14686668,\n",
       "        0.12581915, 0.162079  ],\n",
       "       [0.09845263, 0.1227459 , 0.45028582, 0.05848237, 0.29115152,\n",
       "        0.23800859, 0.31341976],\n",
       "       [0.05400626, 0.08983576, 0.4565182 , 0.07105371, 0.35669625,\n",
       "        0.29811525, 0.13704789],\n",
       "       [0.17004071, 0.08027568, 0.22387674, 0.3752732 , 0.10337524,\n",
       "        0.17419   , 0.18383086],\n",
       "       [0.0295538 , 0.26537365, 0.3427025 , 0.0843724 , 0.26702994,\n",
       "        0.21140833, 0.19546507],\n",
       "       [0.11905671, 0.1098909 , 0.1803156 , 0.2715068 , 0.14782916,\n",
       "        0.22618169, 0.17373021],\n",
       "       [0.07844093, 0.09370169, 0.5113169 , 0.13754115, 0.22371641,\n",
       "        0.35622564, 0.14722063],\n",
       "       [0.07152925, 0.08504133, 0.26431724, 0.1525529 , 0.3451104 ,\n",
       "        0.32429972, 0.1656792 ],\n",
       "       [0.06026727, 0.10990275, 0.2745678 , 0.13578174, 0.18356846,\n",
       "        0.29506463, 0.14274682],\n",
       "       [0.07101419, 0.14691325, 0.49930668, 0.12189294, 0.19967298,\n",
       "        0.18115993, 0.10541256],\n",
       "       [0.08105498, 0.03044854, 0.4124926 , 0.13851473, 0.11921375,\n",
       "        0.37563646, 0.11524472],\n",
       "       [0.1143999 , 0.14960659, 0.30653977, 0.14244545, 0.062886  ,\n",
       "        0.12221896, 0.16614164],\n",
       "       [0.02185726, 0.1755125 , 0.3720335 , 0.07278611, 0.3201805 ,\n",
       "        0.15568398, 0.16514157],\n",
       "       [0.06799981, 0.08857026, 0.33452913, 0.11106409, 0.20444664,\n",
       "        0.4914956 , 0.08464964],\n",
       "       [0.16484198, 0.06297794, 0.31209874, 0.22176483, 0.10633092,\n",
       "        0.40787324, 0.16999814],\n",
       "       [0.07275554, 0.07487841, 0.39748955, 0.06980255, 0.1404683 ,\n",
       "        0.46833906, 0.21408917],\n",
       "       [0.07299435, 0.02771467, 0.2742966 , 0.21729808, 0.16483252,\n",
       "        0.47532248, 0.15567578],\n",
       "       [0.04497829, 0.0763401 , 0.4337398 , 0.05177261, 0.22108829,\n",
       "        0.13617952, 0.14230442],\n",
       "       [0.07398882, 0.05237674, 0.23700553, 0.0750142 , 0.22476853,\n",
       "        0.42113182, 0.27027673],\n",
       "       [0.15642902, 0.14969467, 0.21760337, 0.10471097, 0.09489286,\n",
       "        0.3155907 , 0.14748311],\n",
       "       [0.09909867, 0.09501202, 0.49390832, 0.22835305, 0.33311564,\n",
       "        0.21036237, 0.2127351 ],\n",
       "       [0.03617271, 0.14822632, 0.27428287, 0.07894233, 0.24524382,\n",
       "        0.33377802, 0.21263939],\n",
       "       [0.06240103, 0.09436366, 0.26330358, 0.07671318, 0.1307191 ,\n",
       "        0.22207244, 0.21327749],\n",
       "       [0.04993892, 0.10702313, 0.37215635, 0.0486745 , 0.15518217,\n",
       "        0.4410021 , 0.17205672],\n",
       "       [0.0502209 , 0.06573253, 0.26317567, 0.11273313, 0.10875864,\n",
       "        0.2801036 , 0.22763963],\n",
       "       [0.14977364, 0.19914642, 0.17106842, 0.3027014 , 0.18122365,\n",
       "        0.22659673, 0.21050988],\n",
       "       [0.15831482, 0.09287975, 0.20117736, 0.26248518, 0.09799697,\n",
       "        0.20901042, 0.18962964],\n",
       "       [0.04123893, 0.10862818, 0.17088895, 0.06044184, 0.49297404,\n",
       "        0.27053756, 0.12235403],\n",
       "       [0.07677072, 0.046563  , 0.5191923 , 0.14390785, 0.14632349,\n",
       "        0.23864076, 0.13281181],\n",
       "       [0.03948145, 0.05956864, 0.5840825 , 0.06482134, 0.2755095 ,\n",
       "        0.32305327, 0.10311008],\n",
       "       [0.01772907, 0.08526644, 0.29316917, 0.05157582, 0.14300035,\n",
       "        0.18617548, 0.08591369],\n",
       "       [0.06205999, 0.10644106, 0.27718887, 0.17381838, 0.17724657,\n",
       "        0.1135849 , 0.16936328],\n",
       "       [0.06359714, 0.06722411, 0.39265284, 0.14151986, 0.2651627 ,\n",
       "        0.34568614, 0.11351603],\n",
       "       [0.07379173, 0.04049715, 0.4819593 , 0.10609743, 0.1977051 ,\n",
       "        0.34543702, 0.13449913],\n",
       "       [0.06632441, 0.12273761, 0.22154804, 0.10173402, 0.207267  ,\n",
       "        0.32957196, 0.16603367],\n",
       "       [0.06148079, 0.058148  , 0.52744794, 0.11585341, 0.13793436,\n",
       "        0.2940501 , 0.14710167],\n",
       "       [0.07857184, 0.05608421, 0.3282808 , 0.09449331, 0.1141503 ,\n",
       "        0.29354212, 0.31917456],\n",
       "       [0.07377334, 0.16729645, 0.37005767, 0.1114545 , 0.38126191,\n",
       "        0.33920342, 0.17469582],\n",
       "       [0.03509004, 0.05892179, 0.32131907, 0.06236107, 0.18522973,\n",
       "        0.18397607, 0.13747059],\n",
       "       [0.05862893, 0.16900359, 0.20998375, 0.04706732, 0.25805056,\n",
       "        0.28782666, 0.28872752],\n",
       "       [0.08656706, 0.0562302 , 0.42822126, 0.1707617 , 0.20804663,\n",
       "        0.21773884, 0.16133736],\n",
       "       [0.13231649, 0.09589797, 0.25135702, 0.1088903 , 0.05451728,\n",
       "        0.20785205, 0.1659269 ],\n",
       "       [0.16029589, 0.13737285, 0.22995824, 0.20953895, 0.06391278,\n",
       "        0.13285594, 0.21436074],\n",
       "       [0.11411688, 0.1252697 , 0.1723745 , 0.2955206 , 0.1388103 ,\n",
       "        0.21664278, 0.18604864],\n",
       "       [0.18411449, 0.14471462, 0.1323971 , 0.23986064, 0.11161768,\n",
       "        0.1633331 , 0.2715118 ],\n",
       "       [0.09573923, 0.12308114, 0.27198577, 0.15342282, 0.12435063,\n",
       "        0.17693484, 0.18304771],\n",
       "       [0.0388887 , 0.10750254, 0.25778848, 0.10713516, 0.20534725,\n",
       "        0.4486521 , 0.17763427],\n",
       "       [0.04843795, 0.11144952, 0.31646723, 0.08965802, 0.18931162,\n",
       "        0.2070803 , 0.31365114],\n",
       "       [0.04030009, 0.06668226, 0.43793964, 0.05391521, 0.315336  ,\n",
       "        0.437285  , 0.18960552],\n",
       "       [0.06445412, 0.07719248, 0.37468418, 0.18668342, 0.17789173,\n",
       "        0.3417215 , 0.19182469]], dtype=float32)"
      ]
     },
     "execution_count": 230,
     "metadata": {},
     "output_type": "execute_result"
    }
   ],
   "source": [
    "model.predict([img_arr_test,fac_inp_test,clr_inp_test])"
   ]
  },
  {
   "cell_type": "code",
   "execution_count": 231,
   "metadata": {},
   "outputs": [
    {
     "data": {
      "text/plain": [
       "array([0., 0., 0., 0., 1., 1., 0.])"
      ]
     },
     "execution_count": 231,
     "metadata": {},
     "output_type": "execute_result"
    }
   ],
   "source": [
    "y_out_test[22]"
   ]
  },
  {
   "cell_type": "code",
   "execution_count": 50,
   "metadata": {},
   "outputs": [
    {
     "name": "stdout",
     "output_type": "stream",
     "text": [
      "3\n",
      "14\n",
      "39\n",
      "11\n",
      "25\n",
      "28\n",
      "27\n"
     ]
    }
   ],
   "source": [
    "for i in range(7):\n",
    "    print(len(k[k[i]==1]))"
   ]
  },
  {
   "cell_type": "code",
   "execution_count": null,
   "metadata": {},
   "outputs": [],
   "source": []
  }
 ],
 "metadata": {
  "interpreter": {
   "hash": "9cda7dce2d78f3c21f6a73de63970ac35274352b7a0f13225446d99cae259cfd"
  },
  "kernelspec": {
   "display_name": "Python 3.9.7 ('base')",
   "language": "python",
   "name": "python3"
  },
  "language_info": {
   "codemirror_mode": {
    "name": "ipython",
    "version": 3
   },
   "file_extension": ".py",
   "mimetype": "text/x-python",
   "name": "python",
   "nbconvert_exporter": "python",
   "pygments_lexer": "ipython3",
   "version": "3.9.7"
  },
  "orig_nbformat": 4
 },
 "nbformat": 4,
 "nbformat_minor": 2
}
